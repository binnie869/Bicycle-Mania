{
 "metadata": {
  "name": ""
 },
 "nbformat": 3,
 "nbformat_minor": 0,
 "worksheets": [
  {
   "cells": [
    {
     "cell_type": "markdown",
     "metadata": {},
     "source": [
      "###IMPORTING LIBRARIES"
     ]
    },
    {
     "cell_type": "code",
     "collapsed": false,
     "input": [
      "import pandas as pd\n",
      "import numpy as np\n",
      "import math\n",
      "import sklearn\n",
      "from sklearn import datasets, linear_model, metrics, svm, cluster\n",
      "from sklearn.feature_extraction import DictVectorizer\n",
      "from sklearn import tree\n",
      "from sklearn.ensemble import RandomForestClassifier\n",
      "from sklearn.ensemble import AdaBoostClassifier"
     ],
     "language": "python",
     "metadata": {},
     "outputs": [
      {
       "output_type": "stream",
       "stream": "stderr",
       "text": [
        "/usr/local/lib/python2.7/dist-packages/numpy/core/fromnumeric.py:2507: VisibleDeprecationWarning: `rank` is deprecated; use the `ndim` attribute or function instead. To find the rank of a matrix see `numpy.linalg.matrix_rank`.\n",
        "  VisibleDeprecationWarning)\n"
       ]
      }
     ],
     "prompt_number": 5
    },
    {
     "cell_type": "code",
     "collapsed": false,
     "input": [
      "import matplotlib\n",
      "matplotlib.use('Agg')\n",
      "from matplotlib import pyplot as plt\n",
      "%matplotlib inline"
     ],
     "language": "python",
     "metadata": {},
     "outputs": [],
     "prompt_number": 2
    },
    {
     "cell_type": "markdown",
     "metadata": {},
     "source": [
      "###READING DATA"
     ]
    },
    {
     "cell_type": "code",
     "collapsed": false,
     "input": [
      "master_df = pd.read_csv(\"../data/final.csv\")"
     ],
     "language": "python",
     "metadata": {},
     "outputs": [
      {
       "output_type": "stream",
       "stream": "stderr",
       "text": [
        "/usr/local/lib/python2.7/dist-packages/pandas/io/parsers.py:1164: DtypeWarning: Columns (1,2,4,8,9,10,11,12,13,14,17,18,19,20,21,22) have mixed types. Specify dtype option on import or set low_memory=False.\n",
        "  data = self._reader.read(nrows)\n"
       ]
      }
     ],
     "prompt_number": 3
    },
    {
     "cell_type": "markdown",
     "metadata": {},
     "source": [
      "Using df - a dataframe with smaller subset of the data"
     ]
    },
    {
     "cell_type": "code",
     "collapsed": false,
     "input": [
      "df = master_df[:100000]\n",
      "# df[' fare_amount']"
     ],
     "language": "python",
     "metadata": {},
     "outputs": [],
     "prompt_number": 4
    },
    {
     "cell_type": "markdown",
     "metadata": {},
     "source": [
      "###DATA CLEANING"
     ]
    },
    {
     "cell_type": "code",
     "collapsed": false,
     "input": [
      "for i in range(df.shape[0]):\n",
      "    if df[' trip_distance'][i] > 1000.0:\n",
      "        df[' trip_distance'][i] = np.nan"
     ],
     "language": "python",
     "metadata": {},
     "outputs": [
      {
       "output_type": "stream",
       "stream": "stderr",
       "text": [
        "-c:3: SettingWithCopyWarning: \n",
        "A value is trying to be set on a copy of a slice from a DataFrame\n",
        "\n",
        "See the the caveats in the documentation: http://pandas.pydata.org/pandas-docs/stable/indexing.html#indexing-view-versus-copy\n",
        "/usr/lib/python2.7/dist-packages/IPython/core/interactiveshell.py:2820: SettingWithCopyWarning: \n",
        "A value is trying to be set on a copy of a slice from a DataFrame\n",
        "\n",
        "See the the caveats in the documentation: http://pandas.pydata.org/pandas-docs/stable/indexing.html#indexing-view-versus-copy\n",
        "  exec code_obj in self.user_global_ns, self.user_ns\n"
       ]
      }
     ],
     "prompt_number": 7
    },
    {
     "cell_type": "code",
     "collapsed": false,
     "input": [
      "for i in range(df.shape[0]):\n",
      "    if df[' fare_amount'][i] == 0:\n",
      "        df[' fare_amount'][i] = np.nan"
     ],
     "language": "python",
     "metadata": {},
     "outputs": [],
     "prompt_number": 10
    },
    {
     "cell_type": "code",
     "collapsed": false,
     "input": [
      "df.dropna()\n",
      "df.shape"
     ],
     "language": "python",
     "metadata": {},
     "outputs": [
      {
       "metadata": {},
       "output_type": "pyout",
       "prompt_number": 11,
       "text": [
        "(100000, 23)"
       ]
      }
     ],
     "prompt_number": 11
    },
    {
     "cell_type": "code",
     "collapsed": false,
     "input": [
      "for i in range(df.shape[0]):\n",
      "    if df[' passenger_count'][i] > 6 or df[' passenger_count'][i] == 0:\n",
      "        df[' passenger_count'][i] = np.nan"
     ],
     "language": "python",
     "metadata": {},
     "outputs": [],
     "prompt_number": 12
    },
    {
     "cell_type": "code",
     "collapsed": false,
     "input": [
      "for i in range(df.shape[0]):\n",
      "    if df[' payment_type'][i] == 'UNK':\n",
      "        df[' payment_type'][i] = np.nan"
     ],
     "language": "python",
     "metadata": {},
     "outputs": []
    },
    {
     "cell_type": "code",
     "collapsed": false,
     "input": [
      "for i in range(df.shape[0]):\n",
      "    if type(df[' tip_amount'][i]) == str:\n",
      "        df[' tip_amount'][i] = np.nan"
     ],
     "language": "python",
     "metadata": {},
     "outputs": []
    },
    {
     "cell_type": "markdown",
     "metadata": {},
     "source": [
      "####K-Means clustering for calculating tip bins"
     ]
    },
    {
     "cell_type": "code",
     "collapsed": false,
     "input": [
      "km = sklearn.cluster.KMeans(n_clusters = 5)\n",
      "km.fit(df[[' tip_amount']].values)"
     ],
     "language": "python",
     "metadata": {},
     "outputs": [
      {
       "metadata": {},
       "output_type": "pyout",
       "prompt_number": 11,
       "text": [
        "KMeans(copy_x=True, init='k-means++', max_iter=300, n_clusters=5, n_init=10,\n",
        "    n_jobs=1, precompute_distances=True, random_state=None, tol=0.0001,\n",
        "    verbose=0)"
       ]
      }
     ],
     "prompt_number": 11
    },
    {
     "cell_type": "code",
     "collapsed": false,
     "input": [
      "df['cluster_class']= km.labels_"
     ],
     "language": "python",
     "metadata": {},
     "outputs": [
      {
       "output_type": "stream",
       "stream": "stderr",
       "text": [
        "-c:1: SettingWithCopyWarning: \n",
        "A value is trying to be set on a copy of a slice from a DataFrame.\n",
        "Try using .loc[row_indexer,col_indexer] = value instead\n",
        "\n",
        "See the the caveats in the documentation: http://pandas.pydata.org/pandas-docs/stable/indexing.html#indexing-view-versus-copy\n"
       ]
      }
     ],
     "prompt_number": 12
    },
    {
     "cell_type": "code",
     "collapsed": false,
     "input": [
      "km.cluster_centers_"
     ],
     "language": "python",
     "metadata": {},
     "outputs": [
      {
       "metadata": {},
       "output_type": "pyout",
       "prompt_number": 14,
       "text": [
        "array([[  0.1854037 ],\n",
        "       [  5.19999427],\n",
        "       [  2.10785982],\n",
        "       [ 11.27724232],\n",
        "       [ 57.094375  ]])"
       ]
      }
     ],
     "prompt_number": 14
    },
    {
     "cell_type": "markdown",
     "metadata": {},
     "source": [
      "###UTILS FOR FEATURES\n",
      "\n",
      "####Date Time Features"
     ]
    },
    {
     "cell_type": "code",
     "collapsed": false,
     "input": [
      "from datetime import datetime\n",
      "def InterpretPickupTime(df, field):\n",
      "    count = df.count()[0]\n",
      "    month = [0]*count #1-12\n",
      "    hourOfDay = [0]*count #0-23\n",
      "    dayOfWeek = [0]*count #0=monday, 6=sunday\n",
      "    weekend = [\"X\"]*count #weekday/weekend\n",
      "    timegroup = [\"X\"]*count #0-5early, 6-10morning, 11-15afternoon, 16-20evening, 21-23night, \n",
      "    try:\n",
      "        for i in range(count):\n",
      "            dt = datetime.strptime(df[field][i],\"%Y-%m-%d %H:%M:%S\")\n",
      "            month[i] = dt.month\n",
      "            dayOfWeek[i] = dt.weekday()\n",
      "            hourOfDay[i] = dt.hour\n",
      "            if dt.weekday()> 4:\n",
      "                weekend[i] = \"weekend\";\n",
      "            else:\n",
      "                weekend[i] = \"weekday\";\n",
      "            if hourOfDay[i] < 6:\n",
      "                timegroup[i] = \"early\"\n",
      "            elif hourOfDay[i] < 11:\n",
      "                timegroup[i] = \"morning\"\n",
      "            elif hourOfDay[i] < 16:\n",
      "                timegroup[i] = \"afternoon\"\n",
      "            elif hourOfDay[i] < 21:\n",
      "                timegroup[i] = \"evening\"\n",
      "            else:\n",
      "                timegroup[i] = \"night\"\n",
      "    except:\n",
      "        print \"Exception##\" + str(i) + \"  \"+ df[field][i]+ \"## \"\n",
      "        return\n",
      "    df[field+\"month\"] = month\n",
      "    df[field+\"hourOfDay\"] = hourOfDay\n",
      "    df[field+\"dayOfWeek\"] = dayOfWeek\n",
      "    df[field+\"weekend\"] = weekend\n",
      "    df[field+\"timegroup\"] = timegroup"
     ],
     "language": "python",
     "metadata": {},
     "outputs": []
    },
    {
     "cell_type": "markdown",
     "metadata": {},
     "source": [
      "####Tip Class Features"
     ]
    },
    {
     "cell_type": "code",
     "collapsed": false,
     "input": [
      "def GetTipClasses(tip):\n",
      "    if tip == 0.0:\n",
      "        return \"Z\"\n",
      "    elif tip > 0.0 and tip < 1.0:\n",
      "        return \"A\"\n",
      "    elif tip >= 1.0 and tip < 2.0:\n",
      "        return \"B\"\n",
      "    elif tip >= 2.0 and tip < 3.0:\n",
      "        return \"C\"\n",
      "    elif tip >= 3.0 and tip < 4.0:\n",
      "        return \"D\"\n",
      "    elif tip >= 4.0 and tip < 5.0:\n",
      "        return \"E\"\n",
      "    elif tip >= 5.0 and tip < 7.5:\n",
      "        return \"F\"\n",
      "    elif tip >= 7.5 and tip < 10.0:\n",
      "        return \"G\"\n",
      "    else:\n",
      "        return \"H\"\n",
      "\n",
      "def CalculateTipClasses(df):\n",
      "    count = len(df)\n",
      "#     print count\n",
      "    tip_df = list()\n",
      "    tip_amnt = df[\" tip_amount\"].tolist()\n",
      "    print len(tip_amnt)\n",
      "    for i in range (count):\n",
      "        tip_df.append(GetTipClasses(tip_amnt[i]))\n",
      "#     print len(tip_df)\n",
      "    df[\"tip_class\"] = np.array(tip_df)"
     ],
     "language": "python",
     "metadata": {},
     "outputs": [],
     "prompt_number": 9
    },
    {
     "cell_type": "markdown",
     "metadata": {},
     "source": [
      "#### TIP Class Non zero "
     ]
    },
    {
     "cell_type": "code",
     "collapsed": false,
     "input": [
      "def GetTipClasses_nz(tip):\n",
      "    if tip > 0.0 and tip < 1.0:\n",
      "        return \"A\"\n",
      "    elif tip >= 1.0 and tip < 2.0:\n",
      "        return \"B\"\n",
      "    elif tip >= 2.0 and tip < 3.0:\n",
      "        return \"C\"\n",
      "    elif tip >= 3.0 and tip < 4.0:\n",
      "        return \"D\"\n",
      "    elif tip >= 4.0 and tip < 5.0:\n",
      "        return \"E\"\n",
      "    elif tip >= 5.0 and tip < 7.5:\n",
      "        return \"F\"\n",
      "    elif tip >= 7.5 and tip < 10.0:\n",
      "        return \"G\"\n",
      "    else:\n",
      "        return \"H\"\n",
      "    \n",
      "def CalculateTipClasses_nz(df):\n",
      "    count = df.count()[0]\n",
      "    tip_df = ['X']*(count)\n",
      "    tip_amnt = df[\" tip_amount\"].tolist()\n",
      "    for i in range (count):\n",
      "        tip_df[i] = GetTipClasses_nz(tip_amnt[i])\n",
      "    df[\"tip_class_nz\"] = np.array(tip_df)"
     ],
     "language": "python",
     "metadata": {},
     "outputs": [],
     "prompt_number": 10
    },
    {
     "cell_type": "markdown",
     "metadata": {},
     "source": [
      "####Tip no Tip Features"
     ]
    },
    {
     "cell_type": "code",
     "collapsed": false,
     "input": [
      "def GetTipNoTip(tip):\n",
      "    if tip == 0.0:\n",
      "        return \"NOTIP\"\n",
      "    else:\n",
      "        return \"TIP\"\n",
      "\n",
      "def CalculateTipNoTip(df):\n",
      "    count = df.count()[0]\n",
      "#     print count\n",
      "    tip_df = ['X']*count\n",
      "    tip_amnt = df[\" tip_amount\"].tolist()\n",
      "    for i in range (count):\n",
      "        tip_df[i] = GetTipNoTip(tip_amnt[i])\n",
      "    df[\"tip_no_tip\"] = np.array(tip_df)"
     ],
     "language": "python",
     "metadata": {},
     "outputs": [],
     "prompt_number": 11
    },
    {
     "cell_type": "markdown",
     "metadata": {},
     "source": [
      "### TIP PERCENT"
     ]
    },
    {
     "cell_type": "code",
     "collapsed": false,
     "input": [
      "def GetTipPercent(tip, fare):\n",
      "        return tip*100/fare\n",
      "\n",
      "def CalcuateTipPercentage(df):\n",
      "    count = df.count()[0]\n",
      "    tip_df = ['X']*count\n",
      "    tip_amnt = df[\" tip_amount\"].tolist()\n",
      "    fare_amnt = df[' fare_amount'].tolist()\n",
      "    for i in range (count):\n",
      "        if tip_amnt[i] == 0 or fare_amnt[i] == 0:\n",
      "            tip_df[i] = 0\n",
      "        else:\n",
      "            tip_df[i] = GetTipPercent(tip_amnt[i], fare_amnt[i])\n",
      "    df[\"tip_percent\"] = np.array(tip_df)   "
     ],
     "language": "python",
     "metadata": {},
     "outputs": [],
     "prompt_number": 12
    },
    {
     "cell_type": "markdown",
     "metadata": {},
     "source": [
      "####Zip Code Features"
     ]
    },
    {
     "cell_type": "code",
     "collapsed": false,
     "input": [
      "def PickZipCode(Lat,Long, zipcodes_NY):\n",
      "    #first pick min latitude    \n",
      "    minLong = min(zipcodes_NY.longitude.tolist(), key=lambda x:abs(x-Long))\n",
      "    minLat = min(zipcodes_NY[zipcodes_NY.longitude == minLong].latitude.tolist(), key=lambda x:abs(x-Lat))\n",
      "    z = zipcodes_NY[((zipcodes_NY.longitude==minLong)&(zipcodes_NY.latitude==minLat))][\"zip\"].tolist()[0]\n",
      "    return z\n",
      "\n",
      "def AssignZipcodes(df,field):\n",
      "    count = df.count()[0]\n",
      "    zipz = [0]*count\n",
      "    print count\n",
      "    nyc_df = pd.read_csv(\"..data/nycitydata.csv\")\n",
      "    A = nyc_df.zipcodes.tolist()\n",
      "    zipcodes_NY = pd.read_csv(\"..data/zipcode_NYC.csv\")\n",
      "    zipcodes_NY = zipcodes_NY[zipcodes_NY.state==\"NY\"]\n",
      "    zipcodes_NY.count()\n",
      "    B = zipcodes_NY.zip.tolist()\n",
      "    keepList = [x for x in B if x in A]\n",
      "    zipcodes_NY = zipcodes_NY[zipcodes_NY.zip.isin(keepList)]\n",
      "    try:\n",
      "        for i in range(count):\n",
      "            if i%10000 == 0:#test\n",
      "                print i\n",
      "            zipz[i] = PickZipCode(df[\" \"+field+\"_latitude\"][i],df[\" \"+field+\"_longitude\"][i], zipcodes_NY)\n",
      "    except:\n",
      "        print \"exception \"+str(i)\n",
      "    df[field+\"zipz\"]=zipz"
     ],
     "language": "python",
     "metadata": {},
     "outputs": [],
     "prompt_number": 33
    },
    {
     "cell_type": "code",
     "collapsed": false,
     "input": [
      "def GetNYCityDataByZipCode():\n",
      "    nyc_df = pd.read_csv(\"..data/nycitydata.csv\")\n",
      "    zipDiction={}\n",
      "    for i in range(nyc_df.count()[0]):\n",
      "        zipDiction[nyc_df.zipcodes[i]] = [nyc_df.costOfLivingIndex[i],nyc_df.populationDensity[i],nyc_df.percentageMales[i],nyc_df.medianHouseholdIncome[i]]     \n",
      "    return zipDiction   "
     ],
     "language": "python",
     "metadata": {},
     "outputs": [],
     "prompt_number": 34
    },
    {
     "cell_type": "code",
     "collapsed": false,
     "input": [
      "def AddCityData(df,field):\n",
      "    count = df.count()[0]\n",
      "    COLI = [0]*count\n",
      "    PD = [0]*count\n",
      "    PM = [0]*count\n",
      "    MHI = [0]*count\n",
      "    diction = GetNYCityDataByZipCode()\n",
      "    print count\n",
      "    try:\n",
      "        for i in range(count):\n",
      "            if i%10000 == 0:\n",
      "                print i\n",
      "            temp = diction[df[field+\"zipz\"][i]]\n",
      "            COLI[i] = temp[0]\n",
      "            PD[i] = temp[1]\n",
      "            PM[i] = temp[2]\n",
      "            MHI[i] = temp[3]\n",
      "    except:\n",
      "        print \"exception \"+str(i)\n",
      "    df[field+\"CostOfLivingIndex\"]=COLI\n",
      "    df[field+\"PopulationDensity\"]=PD\n",
      "    df[field+\"PercentageMale\"]=PM\n",
      "    df[field+\"MedianHouseHoldIncome\"]=MHI\n",
      "    "
     ],
     "language": "python",
     "metadata": {},
     "outputs": [],
     "prompt_number": 35
    },
    {
     "cell_type": "code",
     "collapsed": true,
     "input": [
      "AddCityData(df,\"dropoff\")"
     ],
     "language": "python",
     "metadata": {},
     "outputs": [
      {
       "output_type": "stream",
       "stream": "stdout",
       "text": [
        "100000\n",
        "0\n",
        "10000"
       ]
      },
      {
       "output_type": "stream",
       "stream": "stdout",
       "text": [
        "\n",
        "20000"
       ]
      },
      {
       "output_type": "stream",
       "stream": "stdout",
       "text": [
        "\n",
        "30000"
       ]
      },
      {
       "output_type": "stream",
       "stream": "stdout",
       "text": [
        "\n",
        "40000"
       ]
      },
      {
       "output_type": "stream",
       "stream": "stdout",
       "text": [
        "\n",
        "50000"
       ]
      },
      {
       "output_type": "stream",
       "stream": "stdout",
       "text": [
        "\n",
        "60000"
       ]
      },
      {
       "output_type": "stream",
       "stream": "stdout",
       "text": [
        "\n",
        "70000"
       ]
      },
      {
       "output_type": "stream",
       "stream": "stdout",
       "text": [
        "\n",
        "80000"
       ]
      },
      {
       "output_type": "stream",
       "stream": "stdout",
       "text": [
        "\n",
        "90000"
       ]
      },
      {
       "output_type": "stream",
       "stream": "stdout",
       "text": [
        "\n"
       ]
      }
     ],
     "prompt_number": 37
    },
    {
     "cell_type": "markdown",
     "metadata": {},
     "source": [
      "###CREATE NEW FEATURES\n",
      "\n",
      "####Time Based"
     ]
    },
    {
     "cell_type": "code",
     "collapsed": false,
     "input": [
      "InterpretPickupTime(df, \" pickup_datetime\")\n",
      "InterpretPickupTime(df, \" dropoff_datetime\")"
     ],
     "language": "python",
     "metadata": {},
     "outputs": []
    },
    {
     "cell_type": "markdown",
     "metadata": {},
     "source": [
      "####Tip Based"
     ]
    },
    {
     "cell_type": "code",
     "collapsed": false,
     "input": [
      "CalculateTipClasses(df)\n"
     ],
     "language": "python",
     "metadata": {},
     "outputs": [
      {
       "output_type": "stream",
       "stream": "stdout",
       "text": [
        "100000\n"
       ]
      }
     ],
     "prompt_number": 13
    },
    {
     "cell_type": "code",
     "collapsed": false,
     "input": [
      "CalculateTipNoTip(df)"
     ],
     "language": "python",
     "metadata": {},
     "outputs": [],
     "prompt_number": 14
    },
    {
     "cell_type": "code",
     "collapsed": false,
     "input": [
      "CalcuateTipPercentage(df)"
     ],
     "language": "python",
     "metadata": {},
     "outputs": [],
     "prompt_number": 15
    },
    {
     "cell_type": "code",
     "collapsed": false,
     "input": [
      "km = sklearn.cluster.KMeans(n_clusters = 5)\n",
      "km.fit(df[['tip_percent']].values)"
     ],
     "language": "python",
     "metadata": {},
     "outputs": [
      {
       "metadata": {},
       "output_type": "pyout",
       "prompt_number": 19,
       "text": [
        "KMeans(copy_x=True, init='k-means++', max_iter=300, n_clusters=5, n_init=10,\n",
        "    n_jobs=1, precompute_distances=True, random_state=None, tol=0.0001,\n",
        "    verbose=0)"
       ]
      }
     ],
     "prompt_number": 19
    },
    {
     "cell_type": "code",
     "collapsed": false,
     "input": [
      "km.cluster_centers_"
     ],
     "language": "python",
     "metadata": {},
     "outputs": [
      {
       "metadata": {},
       "output_type": "pyout",
       "prompt_number": 21,
       "text": [
        "array([[  1.24990028e+01],\n",
        "       [  7.33125489e-02],\n",
        "       [  8.24921283e+02],\n",
        "       [  1.61597648e+02],\n",
        "       [  2.33841617e+01]])"
       ]
      }
     ],
     "prompt_number": 21
    },
    {
     "cell_type": "code",
     "collapsed": false,
     "input": [
      "df['cluster_percent_class']= km.labels_"
     ],
     "language": "python",
     "metadata": {},
     "outputs": [
      {
       "output_type": "stream",
       "stream": "stderr",
       "text": [
        "-c:1: SettingWithCopyWarning: \n",
        "A value is trying to be set on a copy of a slice from a DataFrame.\n",
        "Try using .loc[row_indexer,col_indexer] = value instead\n",
        "\n",
        "See the the caveats in the documentation: http://pandas.pydata.org/pandas-docs/stable/indexing.html#indexing-view-versus-copy\n"
       ]
      }
     ],
     "prompt_number": 26
    },
    {
     "cell_type": "markdown",
     "metadata": {},
     "source": [
      "####Location Based"
     ]
    },
    {
     "cell_type": "code",
     "collapsed": false,
     "input": [
      "AssignZipcodes(df, 'dropoff')"
     ],
     "language": "python",
     "metadata": {},
     "outputs": [
      {
       "output_type": "stream",
       "stream": "stdout",
       "text": [
        "100000\n",
        "0"
       ]
      },
      {
       "output_type": "stream",
       "stream": "stdout",
       "text": [
        "\n",
        "10000"
       ]
      },
      {
       "output_type": "stream",
       "stream": "stdout",
       "text": [
        "\n",
        "20000"
       ]
      },
      {
       "output_type": "stream",
       "stream": "stdout",
       "text": [
        "\n",
        "30000"
       ]
      },
      {
       "output_type": "stream",
       "stream": "stdout",
       "text": [
        "\n",
        "40000"
       ]
      },
      {
       "output_type": "stream",
       "stream": "stdout",
       "text": [
        "\n",
        "50000"
       ]
      },
      {
       "output_type": "stream",
       "stream": "stdout",
       "text": [
        "\n",
        "60000"
       ]
      },
      {
       "output_type": "stream",
       "stream": "stdout",
       "text": [
        "\n",
        "70000"
       ]
      },
      {
       "output_type": "stream",
       "stream": "stdout",
       "text": [
        "\n",
        "80000"
       ]
      },
      {
       "output_type": "stream",
       "stream": "stdout",
       "text": [
        "\n",
        "90000"
       ]
      },
      {
       "output_type": "stream",
       "stream": "stdout",
       "text": [
        "\n"
       ]
      }
     ],
     "prompt_number": 36
    },
    {
     "cell_type": "markdown",
     "metadata": {},
     "source": [
      "###MODELS"
     ]
    },
    {
     "cell_type": "markdown",
     "metadata": {},
     "source": [
      "####Utils for models"
     ]
    },
    {
     "cell_type": "code",
     "collapsed": false,
     "input": [
      "def run_SVM(X_train, Y_train, Y_dev):\n",
      "    svm_clf = svm.SVC(kernel='rbf')\n",
      "    svm_clf.fit(X_train, Y_train.reshape(Y_train.shape[0],))\n",
      "    Y_pred_dev = svm_clf.predict(X_dev)\n",
      "    SVM_acc = float(sum(map(lambda x,y : x==y, Y_pred_dev, Y_dev)))/len(Y_dev)\n",
      "    print \"SVM RBF Kernel set accuracy: %f\" %((SVM_acc)*100)\n",
      "\n",
      "def run_decision_tree(X_train, Y_train, Y_dev):\n",
      "    dtc_clf = tree.DecisionTreeClassifier()\n",
      "    dtc_clf.fit(X_train, Y_train)\n",
      "    Y_pred_dev1 = dtc_clf.predict(X_dev)\n",
      "    DTC_acc = float(sum(map(lambda x,y : x==y, Y_pred_dev1, Y_dev)))/len(Y_dev)\n",
      "    print \"DRC set accuracy: %f\" %((DTC_acc)*100)\n",
      "    \n",
      "def run_random_forests(X_train, Y_train, Y_dev):\n",
      "    rf_clf = RandomForestClassifier(n_estimators=10)\n",
      "    rf_clf.fit(X_train, Y_train)\n",
      "    Y_pred_dev1 = rf_clf.predict(X_dev)\n",
      "    DTC_acc = float(sum(map(lambda x,y : x==y, Y_pred_dev1, Y_dev)))/len(Y_dev)\n",
      "    print \"RF set accuracy: %f\" %((DTC_acc)*100)\n",
      "    \n",
      "def run_Adaboost(X_train, Y_train, Y_dev):\n",
      "    adb_clf = AdaBoostClassifier(base_estimator=None, n_estimators=50)\n",
      "    adb_clf.fit(X_train, Y_train)\n",
      "    Y_pred_dev1 = adb_clf.predict(X_dev)\n",
      "    DTC_acc = float(sum(map(lambda x,y : x==y, Y_pred_dev1, Y_dev)))/len(Y_dev)\n",
      "    print \"Adaboost set accuracy: %f\" %((DTC_acc)*100)"
     ],
     "language": "python",
     "metadata": {},
     "outputs": [],
     "prompt_number": 16
    },
    {
     "cell_type": "code",
     "collapsed": false,
     "input": [
      "print [(col, pd.isnull(df[col]).sum()) for col in df.columns]"
     ],
     "language": "python",
     "metadata": {},
     "outputs": [
      {
       "output_type": "stream",
       "stream": "stdout",
       "text": [
        "[('Unnamed: 0', 0), ('Unnamed: 0.1', 0), ('medallion', 0), (' hack_license', 0), (' vendor_id_x', 0), (' rate_code', 0), (' store_and_fwd_flag', 50076), (' pickup_datetime', 0), (' dropoff_datetime', 0), (' passenger_count', 0), (' trip_time_in_secs', 0), (' trip_distance', 0), (' pickup_longitude', 0), (' pickup_latitude', 0), (' dropoff_longitude', 2), (' dropoff_latitude', 2), (' vendor_id_y', 0), (' payment_type', 0), (' fare_amount', 0), (' surcharge', 0), (' mta_tax', 0), (' tip_amount', 0), (' tolls_amount', 0), (' total_amount', 0), ('pickupzipz', 0), ('pickupCostOfLivingIndex', 0), ('pickupPopulationDensity', 0), ('pickupPercentageMale', 0), ('pickupMedianHouseHoldIncome', 0), ('tip_class', 0), ('tip_no_tip', 0), ('tip_percent', 0), ('dropoffzipz', 0), ('dropoffCostOfLivingIndex', 0), ('dropoffPopulationDensity', 0), ('dropoffPercentageMale', 0), ('dropoffMedianHouseHoldIncome', 0)]\n"
       ]
      }
     ],
     "prompt_number": 38
    },
    {
     "cell_type": "code",
     "collapsed": false,
     "input": [
      "def GetTrainingAndTest(df):\n",
      "    tr = int(math.floor(0.7*df.count()[0]))\n",
      "    training = df[0:tr]\n",
      "    test = df[tr:]\n",
      "    return training,test"
     ],
     "language": "python",
     "metadata": {},
     "outputs": [],
     "prompt_number": 18
    },
    {
     "cell_type": "code",
     "collapsed": false,
     "input": [
      "feature_cols = [ ' fare_amount', ' payment_type', ' tolls_amount', 'pickupzipz','pickupCostOfLivingIndex']\n",
      "\n",
      "#'dropoffzipz','dropoffCostOfLivingIndex',  trip_distance', ' trip_time_in_secs',\n",
      "#' passenger_count', ' pickup_datetimeweekend', ' dropoff_datetimeweekend'"
     ],
     "language": "python",
     "metadata": {},
     "outputs": [],
     "prompt_number": 61
    },
    {
     "cell_type": "markdown",
     "metadata": {},
     "source": [
      "###Tip No-Tip Classification Model"
     ]
    },
    {
     "cell_type": "code",
     "collapsed": false,
     "input": [
      "train_df,test_df = GetTrainingAndTest(df)\n",
      "dvec = DictVectorizer()\n",
      "dict_df = train_df[feature_cols].T.to_dict().values()\n",
      "train_data = pd.DataFrame(dvec.fit_transform(dict_df).toarray())\n",
      "\n",
      "dict_df = test_df[feature_cols].T.to_dict().values()\n",
      "test_data = pd.DataFrame(dvec.transform(dict_df).toarray())\n",
      "\n",
      "X_train = train_data\n",
      "Y_train =  train_df['tip_no_tip'].reshape(len(train_df['tip_no_tip']), 1)\n",
      "\n",
      "X_dev = test_data\n",
      "Y_dev = test_df['tip_no_tip'].reshape(len(test_df['tip_no_tip']), 1)"
     ],
     "language": "python",
     "metadata": {},
     "outputs": [],
     "prompt_number": 49
    },
    {
     "cell_type": "markdown",
     "metadata": {},
     "source": [
      "####Support Vector Machine Classifier"
     ]
    },
    {
     "cell_type": "code",
     "collapsed": false,
     "input": [
      "run_SVM(X_train, Y_train, Y_dev)"
     ],
     "language": "python",
     "metadata": {},
     "outputs": [
      {
       "output_type": "stream",
       "stream": "stdout",
       "text": [
        "SVM RBF Kernel set accuracy: 96.706667\n"
       ]
      }
     ],
     "prompt_number": 31
    },
    {
     "cell_type": "markdown",
     "metadata": {},
     "source": [
      "####Decision Tree Classifier"
     ]
    },
    {
     "cell_type": "code",
     "collapsed": false,
     "input": [
      "run_decision_tree(X_train, Y_train, Y_dev)"
     ],
     "language": "python",
     "metadata": {},
     "outputs": [
      {
       "output_type": "stream",
       "stream": "stdout",
       "text": [
        "DRC set accuracy: 97.886667\n"
       ]
      }
     ],
     "prompt_number": 50
    },
    {
     "cell_type": "markdown",
     "metadata": {},
     "source": [
      "#### Random Forest Classifier"
     ]
    },
    {
     "cell_type": "code",
     "collapsed": false,
     "input": [
      "run_random_forests(X_train, Y_train, Y_dev)"
     ],
     "language": "python",
     "metadata": {},
     "outputs": [
      {
       "output_type": "stream",
       "stream": "stdout",
       "text": [
        "RF set accuracy: 98.186667\n"
       ]
      },
      {
       "output_type": "stream",
       "stream": "stderr",
       "text": [
        "-c:17: DataConversionWarning: A column-vector y was passed when a 1d array was expected. Please change the shape of y to (n_samples, ), for example using ravel().\n"
       ]
      }
     ],
     "prompt_number": 17
    },
    {
     "cell_type": "markdown",
     "metadata": {},
     "source": [
      "###Non zero Tip Classification Model"
     ]
    },
    {
     "cell_type": "code",
     "collapsed": false,
     "input": [
      "CalculateTipClasses(master_df)\n",
      "InterpretPickupTime(master_df, \" pickup_datetime\")\n",
      "InterpretPickupTime(master_df, \" dropoff_datetime\")\n",
      "df_tipnz= master_df[master_df[' tip_amount'] > 0.0][:100000]\n",
      "print df_tipnz.shape\n",
      "df.shape\n",
      "print df_tipnz.tip_class.unique()"
     ],
     "language": "python",
     "metadata": {},
     "outputs": []
    },
    {
     "cell_type": "code",
     "collapsed": false,
     "input": [
      "train_df,test_df = GetTrainingAndTest(df_tipnz)\n",
      "\n",
      "dvec = DictVectorizer()\n",
      "dict_df = train_df[feature_cols].T.to_dict().values()\n",
      "train_data = pd.DataFrame(dvec.fit_transform(dict_df).toarray())\n",
      "\n",
      "dict_df = test_df[feature_cols].T.to_dict().values()\n",
      "test_data = pd.DataFrame(dvec.transform(dict_df).toarray())\n",
      "\n",
      "X_train = train_data\n",
      "Y_train =  train_df['tip_class'].reshape(len(train_df['tip_class']), 1)\n",
      "\n",
      "X_dev = test_data\n",
      "Y_dev = test_df['tip_class'].reshape(len(test_df['tip_class']), 1)"
     ],
     "language": "python",
     "metadata": {},
     "outputs": []
    },
    {
     "cell_type": "markdown",
     "metadata": {},
     "source": [
      "####Support Vector Machine Classifier"
     ]
    },
    {
     "cell_type": "code",
     "collapsed": false,
     "input": [
      "run_SVM(X_train, Y_train, Y_dev)"
     ],
     "language": "python",
     "metadata": {},
     "outputs": []
    },
    {
     "cell_type": "markdown",
     "metadata": {},
     "source": [
      "####Decision Tree Classifier"
     ]
    },
    {
     "cell_type": "code",
     "collapsed": false,
     "input": [
      "run_decision_tree(X_train, Y_train, Y_dev)"
     ],
     "language": "python",
     "metadata": {},
     "outputs": []
    },
    {
     "cell_type": "markdown",
     "metadata": {},
     "source": [
      "###Tip Classification Model"
     ]
    },
    {
     "cell_type": "code",
     "collapsed": false,
     "input": [
      "train_df,test_df = GetTrainingAndTest(df)\n",
      "\n",
      "dvec = DictVectorizer()\n",
      "dict_df = train_df[feature_cols].T.to_dict().values()\n",
      "train_data = pd.DataFrame(dvec.fit_transform(dict_df).toarray())\n",
      "\n",
      "dict_df = test_df[feature_cols].T.to_dict().values()\n",
      "test_data = pd.DataFrame(dvec.transform(dict_df).toarray())\n",
      "\n",
      "X_train = train_data\n",
      "Y_train =  train_df['tip_class'].reshape(len(train_df['tip_class']), 1)\n",
      "\n",
      "X_dev = test_data\n",
      "Y_dev = test_df['tip_class'].reshape(len(test_df['tip_class']), 1)"
     ],
     "language": "python",
     "metadata": {},
     "outputs": [],
     "prompt_number": 59
    },
    {
     "cell_type": "markdown",
     "metadata": {},
     "source": [
      "####Support Vector Machine Classifier"
     ]
    },
    {
     "cell_type": "code",
     "collapsed": false,
     "input": [
      "run_SVM(X_train, Y_train, Y_dev)"
     ],
     "language": "python",
     "metadata": {},
     "outputs": []
    },
    {
     "cell_type": "markdown",
     "metadata": {},
     "source": [
      "####Decision Tree Classifier"
     ]
    },
    {
     "cell_type": "code",
     "collapsed": false,
     "input": [
      "run_decision_tree(X_train, Y_train, Y_dev)"
     ],
     "language": "python",
     "metadata": {},
     "outputs": [
      {
       "output_type": "stream",
       "stream": "stdout",
       "text": [
        "DRC set accuracy: 73.476667\n"
       ]
      }
     ],
     "prompt_number": 60
    },
    {
     "cell_type": "markdown",
     "metadata": {},
     "source": [
      "### TIP PERCENT CLASSIFIFCATION MODEL"
     ]
    },
    {
     "cell_type": "code",
     "collapsed": false,
     "input": [
      "run_decision_tree(X_train, Y_train, Y_dev)"
     ],
     "language": "python",
     "metadata": {},
     "outputs": [
      {
       "output_type": "stream",
       "stream": "stdout",
       "text": [
        "DRC set accuracy: 83.806667\n"
       ]
      }
     ],
     "prompt_number": 32
    },
    {
     "cell_type": "code",
     "collapsed": true,
     "input": [
      "train_df,test_df = GetTrainingAndTest(df)\n",
      "\n",
      "dvec = DictVectorizer()\n",
      "dict_df = train_df[feature_cols].T.to_dict().values()\n",
      "train_data = pd.DataFrame(dvec.fit_transform(dict_df).toarray())\n",
      "\n",
      "dict_df = test_df[feature_cols].T.to_dict().values()\n",
      "test_data = pd.DataFrame(dvec.transform(dict_df).toarray())\n",
      "\n",
      "X_train = train_data\n",
      "Y_train =  train_df['cluster_percent_class'].reshape(len(train_df['cluster_percent_class']), 1)\n",
      "\n",
      "X_dev = test_data\n",
      "Y_dev = test_df['cluster_percent_class'].reshape(len(test_df['cluster_percent_class']), 1)"
     ],
     "language": "python",
     "metadata": {},
     "outputs": [
      {
       "ename": "KeyError",
       "evalue": "'cluster_percent_class'",
       "output_type": "pyerr",
       "traceback": [
        "\u001b[0;31m---------------------------------------------------------------------------\u001b[0m\n\u001b[0;31mKeyError\u001b[0m                                  Traceback (most recent call last)",
        "\u001b[0;32m<ipython-input-55-e0e1d69cb602>\u001b[0m in \u001b[0;36m<module>\u001b[0;34m()\u001b[0m\n\u001b[1;32m      9\u001b[0m \u001b[0;34m\u001b[0m\u001b[0m\n\u001b[1;32m     10\u001b[0m \u001b[0mX_train\u001b[0m \u001b[0;34m=\u001b[0m \u001b[0mtrain_data\u001b[0m\u001b[0;34m\u001b[0m\u001b[0m\n\u001b[0;32m---> 11\u001b[0;31m \u001b[0mY_train\u001b[0m \u001b[0;34m=\u001b[0m  \u001b[0mtrain_df\u001b[0m\u001b[0;34m[\u001b[0m\u001b[0;34m'cluster_percent_class'\u001b[0m\u001b[0;34m]\u001b[0m\u001b[0;34m.\u001b[0m\u001b[0mreshape\u001b[0m\u001b[0;34m(\u001b[0m\u001b[0mlen\u001b[0m\u001b[0;34m(\u001b[0m\u001b[0mtrain_df\u001b[0m\u001b[0;34m[\u001b[0m\u001b[0;34m'cluster_percent_class'\u001b[0m\u001b[0;34m]\u001b[0m\u001b[0;34m)\u001b[0m\u001b[0;34m,\u001b[0m \u001b[0;36m1\u001b[0m\u001b[0;34m)\u001b[0m\u001b[0;34m\u001b[0m\u001b[0m\n\u001b[0m\u001b[1;32m     12\u001b[0m \u001b[0;34m\u001b[0m\u001b[0m\n\u001b[1;32m     13\u001b[0m \u001b[0mX_dev\u001b[0m \u001b[0;34m=\u001b[0m \u001b[0mtest_data\u001b[0m\u001b[0;34m\u001b[0m\u001b[0m\n",
        "\u001b[0;32m/usr/local/lib/python2.7/dist-packages/pandas/core/frame.pyc\u001b[0m in \u001b[0;36m__getitem__\u001b[0;34m(self, key)\u001b[0m\n\u001b[1;32m   1785\u001b[0m             \u001b[0;32mreturn\u001b[0m \u001b[0mself\u001b[0m\u001b[0;34m.\u001b[0m\u001b[0m_getitem_multilevel\u001b[0m\u001b[0;34m(\u001b[0m\u001b[0mkey\u001b[0m\u001b[0;34m)\u001b[0m\u001b[0;34m\u001b[0m\u001b[0m\n\u001b[1;32m   1786\u001b[0m         \u001b[0;32melse\u001b[0m\u001b[0;34m:\u001b[0m\u001b[0;34m\u001b[0m\u001b[0m\n\u001b[0;32m-> 1787\u001b[0;31m             \u001b[0;32mreturn\u001b[0m \u001b[0mself\u001b[0m\u001b[0;34m.\u001b[0m\u001b[0m_getitem_column\u001b[0m\u001b[0;34m(\u001b[0m\u001b[0mkey\u001b[0m\u001b[0;34m)\u001b[0m\u001b[0;34m\u001b[0m\u001b[0m\n\u001b[0m\u001b[1;32m   1788\u001b[0m \u001b[0;34m\u001b[0m\u001b[0m\n\u001b[1;32m   1789\u001b[0m     \u001b[0;32mdef\u001b[0m \u001b[0m_getitem_column\u001b[0m\u001b[0;34m(\u001b[0m\u001b[0mself\u001b[0m\u001b[0;34m,\u001b[0m \u001b[0mkey\u001b[0m\u001b[0;34m)\u001b[0m\u001b[0;34m:\u001b[0m\u001b[0;34m\u001b[0m\u001b[0m\n",
        "\u001b[0;32m/usr/local/lib/python2.7/dist-packages/pandas/core/frame.pyc\u001b[0m in \u001b[0;36m_getitem_column\u001b[0;34m(self, key)\u001b[0m\n\u001b[1;32m   1792\u001b[0m         \u001b[0;31m# get column\u001b[0m\u001b[0;34m\u001b[0m\u001b[0;34m\u001b[0m\u001b[0m\n\u001b[1;32m   1793\u001b[0m         \u001b[0;32mif\u001b[0m \u001b[0mself\u001b[0m\u001b[0;34m.\u001b[0m\u001b[0mcolumns\u001b[0m\u001b[0;34m.\u001b[0m\u001b[0mis_unique\u001b[0m\u001b[0;34m:\u001b[0m\u001b[0;34m\u001b[0m\u001b[0m\n\u001b[0;32m-> 1794\u001b[0;31m             \u001b[0;32mreturn\u001b[0m \u001b[0mself\u001b[0m\u001b[0;34m.\u001b[0m\u001b[0m_get_item_cache\u001b[0m\u001b[0;34m(\u001b[0m\u001b[0mkey\u001b[0m\u001b[0;34m)\u001b[0m\u001b[0;34m\u001b[0m\u001b[0m\n\u001b[0m\u001b[1;32m   1795\u001b[0m \u001b[0;34m\u001b[0m\u001b[0m\n\u001b[1;32m   1796\u001b[0m         \u001b[0;31m# duplicate columns & possible reduce dimensionaility\u001b[0m\u001b[0;34m\u001b[0m\u001b[0;34m\u001b[0m\u001b[0m\n",
        "\u001b[0;32m/usr/local/lib/python2.7/dist-packages/pandas/core/generic.pyc\u001b[0m in \u001b[0;36m_get_item_cache\u001b[0;34m(self, item)\u001b[0m\n\u001b[1;32m   1077\u001b[0m         \u001b[0mres\u001b[0m \u001b[0;34m=\u001b[0m \u001b[0mcache\u001b[0m\u001b[0;34m.\u001b[0m\u001b[0mget\u001b[0m\u001b[0;34m(\u001b[0m\u001b[0mitem\u001b[0m\u001b[0;34m)\u001b[0m\u001b[0;34m\u001b[0m\u001b[0m\n\u001b[1;32m   1078\u001b[0m         \u001b[0;32mif\u001b[0m \u001b[0mres\u001b[0m \u001b[0;32mis\u001b[0m \u001b[0mNone\u001b[0m\u001b[0;34m:\u001b[0m\u001b[0;34m\u001b[0m\u001b[0m\n\u001b[0;32m-> 1079\u001b[0;31m             \u001b[0mvalues\u001b[0m \u001b[0;34m=\u001b[0m \u001b[0mself\u001b[0m\u001b[0;34m.\u001b[0m\u001b[0m_data\u001b[0m\u001b[0;34m.\u001b[0m\u001b[0mget\u001b[0m\u001b[0;34m(\u001b[0m\u001b[0mitem\u001b[0m\u001b[0;34m)\u001b[0m\u001b[0;34m\u001b[0m\u001b[0m\n\u001b[0m\u001b[1;32m   1080\u001b[0m             \u001b[0mres\u001b[0m \u001b[0;34m=\u001b[0m \u001b[0mself\u001b[0m\u001b[0;34m.\u001b[0m\u001b[0m_box_item_values\u001b[0m\u001b[0;34m(\u001b[0m\u001b[0mitem\u001b[0m\u001b[0;34m,\u001b[0m \u001b[0mvalues\u001b[0m\u001b[0;34m)\u001b[0m\u001b[0;34m\u001b[0m\u001b[0m\n\u001b[1;32m   1081\u001b[0m             \u001b[0mcache\u001b[0m\u001b[0;34m[\u001b[0m\u001b[0mitem\u001b[0m\u001b[0;34m]\u001b[0m \u001b[0;34m=\u001b[0m \u001b[0mres\u001b[0m\u001b[0;34m\u001b[0m\u001b[0m\n",
        "\u001b[0;32m/usr/local/lib/python2.7/dist-packages/pandas/core/internals.pyc\u001b[0m in \u001b[0;36mget\u001b[0;34m(self, item, fastpath)\u001b[0m\n\u001b[1;32m   2841\u001b[0m \u001b[0;34m\u001b[0m\u001b[0m\n\u001b[1;32m   2842\u001b[0m             \u001b[0;32mif\u001b[0m \u001b[0;32mnot\u001b[0m \u001b[0misnull\u001b[0m\u001b[0;34m(\u001b[0m\u001b[0mitem\u001b[0m\u001b[0;34m)\u001b[0m\u001b[0;34m:\u001b[0m\u001b[0;34m\u001b[0m\u001b[0m\n\u001b[0;32m-> 2843\u001b[0;31m                 \u001b[0mloc\u001b[0m \u001b[0;34m=\u001b[0m \u001b[0mself\u001b[0m\u001b[0;34m.\u001b[0m\u001b[0mitems\u001b[0m\u001b[0;34m.\u001b[0m\u001b[0mget_loc\u001b[0m\u001b[0;34m(\u001b[0m\u001b[0mitem\u001b[0m\u001b[0;34m)\u001b[0m\u001b[0;34m\u001b[0m\u001b[0m\n\u001b[0m\u001b[1;32m   2844\u001b[0m             \u001b[0;32melse\u001b[0m\u001b[0;34m:\u001b[0m\u001b[0;34m\u001b[0m\u001b[0m\n\u001b[1;32m   2845\u001b[0m                 \u001b[0mindexer\u001b[0m \u001b[0;34m=\u001b[0m \u001b[0mnp\u001b[0m\u001b[0;34m.\u001b[0m\u001b[0marange\u001b[0m\u001b[0;34m(\u001b[0m\u001b[0mlen\u001b[0m\u001b[0;34m(\u001b[0m\u001b[0mself\u001b[0m\u001b[0;34m.\u001b[0m\u001b[0mitems\u001b[0m\u001b[0;34m)\u001b[0m\u001b[0;34m)\u001b[0m\u001b[0;34m[\u001b[0m\u001b[0misnull\u001b[0m\u001b[0;34m(\u001b[0m\u001b[0mself\u001b[0m\u001b[0;34m.\u001b[0m\u001b[0mitems\u001b[0m\u001b[0;34m)\u001b[0m\u001b[0;34m]\u001b[0m\u001b[0;34m\u001b[0m\u001b[0m\n",
        "\u001b[0;32m/usr/local/lib/python2.7/dist-packages/pandas/core/index.pyc\u001b[0m in \u001b[0;36mget_loc\u001b[0;34m(self, key, method)\u001b[0m\n\u001b[1;32m   1435\u001b[0m         \"\"\"\n\u001b[1;32m   1436\u001b[0m         \u001b[0;32mif\u001b[0m \u001b[0mmethod\u001b[0m \u001b[0;32mis\u001b[0m \u001b[0mNone\u001b[0m\u001b[0;34m:\u001b[0m\u001b[0;34m\u001b[0m\u001b[0m\n\u001b[0;32m-> 1437\u001b[0;31m             \u001b[0;32mreturn\u001b[0m \u001b[0mself\u001b[0m\u001b[0;34m.\u001b[0m\u001b[0m_engine\u001b[0m\u001b[0;34m.\u001b[0m\u001b[0mget_loc\u001b[0m\u001b[0;34m(\u001b[0m\u001b[0m_values_from_object\u001b[0m\u001b[0;34m(\u001b[0m\u001b[0mkey\u001b[0m\u001b[0;34m)\u001b[0m\u001b[0;34m)\u001b[0m\u001b[0;34m\u001b[0m\u001b[0m\n\u001b[0m\u001b[1;32m   1438\u001b[0m \u001b[0;34m\u001b[0m\u001b[0m\n\u001b[1;32m   1439\u001b[0m         \u001b[0mindexer\u001b[0m \u001b[0;34m=\u001b[0m \u001b[0mself\u001b[0m\u001b[0;34m.\u001b[0m\u001b[0mget_indexer\u001b[0m\u001b[0;34m(\u001b[0m\u001b[0;34m[\u001b[0m\u001b[0mkey\u001b[0m\u001b[0;34m]\u001b[0m\u001b[0;34m,\u001b[0m \u001b[0mmethod\u001b[0m\u001b[0;34m=\u001b[0m\u001b[0mmethod\u001b[0m\u001b[0;34m)\u001b[0m\u001b[0;34m\u001b[0m\u001b[0m\n",
        "\u001b[0;32m/usr/local/lib/python2.7/dist-packages/pandas/index.so\u001b[0m in \u001b[0;36mpandas.index.IndexEngine.get_loc (pandas/index.c:3824)\u001b[0;34m()\u001b[0m\n",
        "\u001b[0;32m/usr/local/lib/python2.7/dist-packages/pandas/index.so\u001b[0m in \u001b[0;36mpandas.index.IndexEngine.get_loc (pandas/index.c:3704)\u001b[0;34m()\u001b[0m\n",
        "\u001b[0;32m/usr/local/lib/python2.7/dist-packages/pandas/hashtable.so\u001b[0m in \u001b[0;36mpandas.hashtable.PyObjectHashTable.get_item (pandas/hashtable.c:12349)\u001b[0;34m()\u001b[0m\n",
        "\u001b[0;32m/usr/local/lib/python2.7/dist-packages/pandas/hashtable.so\u001b[0m in \u001b[0;36mpandas.hashtable.PyObjectHashTable.get_item (pandas/hashtable.c:12300)\u001b[0;34m()\u001b[0m\n",
        "\u001b[0;31mKeyError\u001b[0m: 'cluster_percent_class'"
       ]
      }
     ],
     "prompt_number": 55
    },
    {
     "cell_type": "markdown",
     "metadata": {},
     "source": [
      "###Tip Amount Prediction Regression Model"
     ]
    },
    {
     "cell_type": "code",
     "collapsed": false,
     "input": [
      "train_df,test_df = GetTrainingAndTest(df)\n",
      "dvec = DictVectorizer()\n",
      "dict_df = train_df[feature_cols].T.to_dict().values()\n",
      "train_data = pd.DataFrame(dvec.fit_transform(dict_df).toarray())\n",
      "\n",
      "dict_df = test_df[feature_cols].T.to_dict().values()\n",
      "test_data = pd.DataFrame(dvec.transform(dict_df).toarray())\n",
      "\n",
      "X_train = train_data\n",
      "Y_train =  train_df[' tip_amount'].reshape(len(train_df[' tip_amount']), 1)\n",
      "\n",
      "X_dev = test_data\n",
      "Y_dev = test_df[' tip_amount'].reshape(len(test_df[' tip_amount']), 1)"
     ],
     "language": "python",
     "metadata": {},
     "outputs": []
    },
    {
     "cell_type": "markdown",
     "metadata": {},
     "source": [
      "####Baseline Accuracy for Regression"
     ]
    },
    {
     "cell_type": "code",
     "collapsed": false,
     "input": [
      "tip_mean = df[' tip_amount'].mean()\n",
      "\n",
      "diff_df = df[' tip_amount'].apply(lambda(x): abs(x-tip_mean))\n",
      "mae = diff_df.sum()/df.shape[0]\n",
      "print \"Mean absolute Error: %f\" %(mae)"
     ],
     "language": "python",
     "metadata": {},
     "outputs": []
    },
    {
     "cell_type": "markdown",
     "metadata": {},
     "source": [
      "####Linear Regression Model"
     ]
    },
    {
     "cell_type": "code",
     "collapsed": false,
     "input": [
      "Y_reg_train =  train_df[' tip_amount'].reshape(len(train_df[' tip_amount']), 1)\n",
      "Y_reg_dev = test_df[' tip_amount'].reshape(len(test_df[' tip_amount']), 1)\n",
      "\n",
      "lr = linear_model.LinearRegression()\n",
      "lr.fit(X_train, Y_reg_train.reshape(Y_train.shape[0],))\n",
      "Y_pred_dev = lr.predict(X_dev)\n",
      "Y_pred_dev = Y_pred_dev.reshape(len(Y_pred_dev), 1)\n",
      "print \"Linear Regression Accuracy:%f\" %(lr.score(X_dev, Y_reg_dev))\n",
      "\n",
      "mae = np.sum(np.absolute(Y_reg_dev - Y_pred_dev))/Y_reg_dev.shape[0]\n",
      "print \"Mean absolute Error: %f\" %(mae)"
     ],
     "language": "python",
     "metadata": {},
     "outputs": []
    },
    {
     "cell_type": "markdown",
     "metadata": {},
     "source": [
      "####SVM Regression Model"
     ]
    },
    {
     "cell_type": "code",
     "collapsed": false,
     "input": [
      "svr = svm.SVR()\n",
      "svr.fit(X_train, Y_reg_train.reshape(Y_train.shape[0],))\n",
      "print svr.score(X_dev, Y_reg_dev)"
     ],
     "language": "python",
     "metadata": {},
     "outputs": []
    },
    {
     "cell_type": "markdown",
     "metadata": {},
     "source": [
      "####Lasso Regression Model"
     ]
    },
    {
     "cell_type": "code",
     "collapsed": false,
     "input": [
      "lasso = linear_model.Lasso()\n",
      "lasso.fit(X_train, Y_reg_train.reshape(Y_train.shape[0],))\n",
      "Y_pred_dev = lasso.predict(X_dev).reshape(len(Y_pred_dev), 1)\n",
      "print \"Lasso Regression Accuracy:%f\" %(lasso.score(X_dev, Y_reg_dev))\n",
      "\n",
      "mae = np.sum(np.absolute(Y_reg_dev - Y_pred_dev))/Y_reg_dev.shape[0]\n",
      "print \"Mean absolute Error: %f\" %(mae)\n",
      "\n",
      "# print lasso.coefs"
     ],
     "language": "python",
     "metadata": {},
     "outputs": []
    }
   ],
   "metadata": {}
  }
 ]
}