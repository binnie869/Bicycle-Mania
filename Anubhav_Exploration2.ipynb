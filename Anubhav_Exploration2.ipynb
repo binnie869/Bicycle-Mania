{
 "cells": [
  {
   "cell_type": "code",
   "execution_count": 1,
   "metadata": {
    "collapsed": false
   },
   "outputs": [],
   "source": [
    "import pandas as pd\n",
    "import matplotlib.pyplot as plt\n",
    "import matplotlib\n",
    "import numpy as np\n",
    "# import plotly.plotly as py\n",
    "%matplotlib inline\n",
    "from datetime import datetime, timedelta"
   ]
  },
  {
   "cell_type": "code",
   "execution_count": 2,
   "metadata": {
    "collapsed": false
   },
   "outputs": [],
   "source": [
    "df = pd.read_csv(\"DATA/babs_open_data_year_1/201402_babs_open_data/201402_merged_data.csv\", low_memory=False)"
   ]
  },
  {
   "cell_type": "code",
   "execution_count": 3,
   "metadata": {
    "collapsed": false
   },
   "outputs": [],
   "source": [
    "df_station = pd.read_csv(\"DATA/babs_open_data_year_1/201402_babs_open_data/201402_station_data.csv\")"
   ]
  },
  {
   "cell_type": "code",
   "execution_count": 4,
   "metadata": {
    "collapsed": false
   },
   "outputs": [
    {
     "data": {
      "text/html": [
       "<div>\n",
       "<table border=\"1\" class=\"dataframe\">\n",
       "  <thead>\n",
       "    <tr style=\"text-align: right;\">\n",
       "      <th></th>\n",
       "      <th>station_id</th>\n",
       "      <th>name</th>\n",
       "      <th>lat</th>\n",
       "      <th>long</th>\n",
       "      <th>dockcount</th>\n",
       "      <th>landmark</th>\n",
       "      <th>installation</th>\n",
       "    </tr>\n",
       "  </thead>\n",
       "  <tbody>\n",
       "    <tr>\n",
       "      <th>0</th>\n",
       "      <td>2</td>\n",
       "      <td>San Jose Diridon Caltrain Station</td>\n",
       "      <td>37.329732</td>\n",
       "      <td>-121.901782</td>\n",
       "      <td>27</td>\n",
       "      <td>San Jose</td>\n",
       "      <td>8/6/2013</td>\n",
       "    </tr>\n",
       "    <tr>\n",
       "      <th>1</th>\n",
       "      <td>3</td>\n",
       "      <td>San Jose Civic Center</td>\n",
       "      <td>37.330698</td>\n",
       "      <td>-121.888979</td>\n",
       "      <td>15</td>\n",
       "      <td>San Jose</td>\n",
       "      <td>8/5/2013</td>\n",
       "    </tr>\n",
       "    <tr>\n",
       "      <th>2</th>\n",
       "      <td>4</td>\n",
       "      <td>Santa Clara at Almaden</td>\n",
       "      <td>37.333988</td>\n",
       "      <td>-121.894902</td>\n",
       "      <td>11</td>\n",
       "      <td>San Jose</td>\n",
       "      <td>8/6/2013</td>\n",
       "    </tr>\n",
       "    <tr>\n",
       "      <th>3</th>\n",
       "      <td>5</td>\n",
       "      <td>Adobe on Almaden</td>\n",
       "      <td>37.331415</td>\n",
       "      <td>-121.893200</td>\n",
       "      <td>19</td>\n",
       "      <td>San Jose</td>\n",
       "      <td>8/5/2013</td>\n",
       "    </tr>\n",
       "    <tr>\n",
       "      <th>4</th>\n",
       "      <td>6</td>\n",
       "      <td>San Pedro Square</td>\n",
       "      <td>37.336721</td>\n",
       "      <td>-121.894074</td>\n",
       "      <td>15</td>\n",
       "      <td>San Jose</td>\n",
       "      <td>8/7/2013</td>\n",
       "    </tr>\n",
       "    <tr>\n",
       "      <th>5</th>\n",
       "      <td>7</td>\n",
       "      <td>Paseo de San Antonio</td>\n",
       "      <td>37.333798</td>\n",
       "      <td>-121.886943</td>\n",
       "      <td>15</td>\n",
       "      <td>San Jose</td>\n",
       "      <td>8/7/2013</td>\n",
       "    </tr>\n",
       "    <tr>\n",
       "      <th>6</th>\n",
       "      <td>8</td>\n",
       "      <td>San Salvador at 1st</td>\n",
       "      <td>37.330165</td>\n",
       "      <td>-121.885831</td>\n",
       "      <td>15</td>\n",
       "      <td>San Jose</td>\n",
       "      <td>8/5/2013</td>\n",
       "    </tr>\n",
       "    <tr>\n",
       "      <th>7</th>\n",
       "      <td>9</td>\n",
       "      <td>Japantown</td>\n",
       "      <td>37.348742</td>\n",
       "      <td>-121.894715</td>\n",
       "      <td>15</td>\n",
       "      <td>San Jose</td>\n",
       "      <td>8/5/2013</td>\n",
       "    </tr>\n",
       "    <tr>\n",
       "      <th>8</th>\n",
       "      <td>10</td>\n",
       "      <td>San Jose City Hall</td>\n",
       "      <td>37.337391</td>\n",
       "      <td>-121.886995</td>\n",
       "      <td>15</td>\n",
       "      <td>San Jose</td>\n",
       "      <td>8/6/2013</td>\n",
       "    </tr>\n",
       "    <tr>\n",
       "      <th>9</th>\n",
       "      <td>11</td>\n",
       "      <td>MLK Library</td>\n",
       "      <td>37.335885</td>\n",
       "      <td>-121.885660</td>\n",
       "      <td>19</td>\n",
       "      <td>San Jose</td>\n",
       "      <td>8/6/2013</td>\n",
       "    </tr>\n",
       "    <tr>\n",
       "      <th>10</th>\n",
       "      <td>12</td>\n",
       "      <td>SJSU 4th at San Carlos</td>\n",
       "      <td>37.332808</td>\n",
       "      <td>-121.883891</td>\n",
       "      <td>19</td>\n",
       "      <td>San Jose</td>\n",
       "      <td>8/7/2013</td>\n",
       "    </tr>\n",
       "    <tr>\n",
       "      <th>11</th>\n",
       "      <td>13</td>\n",
       "      <td>St James Park</td>\n",
       "      <td>37.339301</td>\n",
       "      <td>-121.889937</td>\n",
       "      <td>15</td>\n",
       "      <td>San Jose</td>\n",
       "      <td>8/6/2013</td>\n",
       "    </tr>\n",
       "    <tr>\n",
       "      <th>12</th>\n",
       "      <td>14</td>\n",
       "      <td>Arena Green / SAP Center</td>\n",
       "      <td>37.332692</td>\n",
       "      <td>-121.900084</td>\n",
       "      <td>19</td>\n",
       "      <td>San Jose</td>\n",
       "      <td>8/5/2013</td>\n",
       "    </tr>\n",
       "    <tr>\n",
       "      <th>13</th>\n",
       "      <td>16</td>\n",
       "      <td>SJSU - San Salvador at 9th</td>\n",
       "      <td>37.333955</td>\n",
       "      <td>-121.877349</td>\n",
       "      <td>15</td>\n",
       "      <td>San Jose</td>\n",
       "      <td>8/7/2013</td>\n",
       "    </tr>\n",
       "    <tr>\n",
       "      <th>14</th>\n",
       "      <td>21</td>\n",
       "      <td>Franklin at Maple</td>\n",
       "      <td>37.481758</td>\n",
       "      <td>-122.226904</td>\n",
       "      <td>15</td>\n",
       "      <td>Redwood City</td>\n",
       "      <td>8/12/2013</td>\n",
       "    </tr>\n",
       "    <tr>\n",
       "      <th>15</th>\n",
       "      <td>22</td>\n",
       "      <td>Redwood City Caltrain Station</td>\n",
       "      <td>37.486078</td>\n",
       "      <td>-122.232089</td>\n",
       "      <td>25</td>\n",
       "      <td>Redwood City</td>\n",
       "      <td>8/15/2013</td>\n",
       "    </tr>\n",
       "    <tr>\n",
       "      <th>16</th>\n",
       "      <td>23</td>\n",
       "      <td>San Mateo County Center</td>\n",
       "      <td>37.488501</td>\n",
       "      <td>-122.231061</td>\n",
       "      <td>15</td>\n",
       "      <td>Redwood City</td>\n",
       "      <td>8/15/2013</td>\n",
       "    </tr>\n",
       "    <tr>\n",
       "      <th>17</th>\n",
       "      <td>24</td>\n",
       "      <td>Redwood City Public Library</td>\n",
       "      <td>37.484219</td>\n",
       "      <td>-122.227424</td>\n",
       "      <td>15</td>\n",
       "      <td>Redwood City</td>\n",
       "      <td>8/12/2013</td>\n",
       "    </tr>\n",
       "    <tr>\n",
       "      <th>18</th>\n",
       "      <td>25</td>\n",
       "      <td>Broadway at Main</td>\n",
       "      <td>37.486725</td>\n",
       "      <td>-122.225551</td>\n",
       "      <td>15</td>\n",
       "      <td>Redwood City</td>\n",
       "      <td>8/12/2013</td>\n",
       "    </tr>\n",
       "    <tr>\n",
       "      <th>19</th>\n",
       "      <td>26</td>\n",
       "      <td>Redwood City Medical Center</td>\n",
       "      <td>37.487682</td>\n",
       "      <td>-122.223492</td>\n",
       "      <td>15</td>\n",
       "      <td>Redwood City</td>\n",
       "      <td>8/12/2013</td>\n",
       "    </tr>\n",
       "    <tr>\n",
       "      <th>20</th>\n",
       "      <td>27</td>\n",
       "      <td>Mountain View City Hall</td>\n",
       "      <td>37.389218</td>\n",
       "      <td>-122.081896</td>\n",
       "      <td>15</td>\n",
       "      <td>Mountain View</td>\n",
       "      <td>8/16/2013</td>\n",
       "    </tr>\n",
       "    <tr>\n",
       "      <th>21</th>\n",
       "      <td>28</td>\n",
       "      <td>Mountain View Caltrain Station</td>\n",
       "      <td>37.394358</td>\n",
       "      <td>-122.076713</td>\n",
       "      <td>23</td>\n",
       "      <td>Mountain View</td>\n",
       "      <td>8/15/2013</td>\n",
       "    </tr>\n",
       "    <tr>\n",
       "      <th>22</th>\n",
       "      <td>29</td>\n",
       "      <td>San Antonio Caltrain Station</td>\n",
       "      <td>37.406940</td>\n",
       "      <td>-122.106758</td>\n",
       "      <td>23</td>\n",
       "      <td>Mountain View</td>\n",
       "      <td>8/15/2013</td>\n",
       "    </tr>\n",
       "    <tr>\n",
       "      <th>23</th>\n",
       "      <td>30</td>\n",
       "      <td>Evelyn Park and Ride</td>\n",
       "      <td>37.390277</td>\n",
       "      <td>-122.066553</td>\n",
       "      <td>15</td>\n",
       "      <td>Mountain View</td>\n",
       "      <td>8/16/2013</td>\n",
       "    </tr>\n",
       "    <tr>\n",
       "      <th>24</th>\n",
       "      <td>31</td>\n",
       "      <td>San Antonio Shopping Center</td>\n",
       "      <td>37.400443</td>\n",
       "      <td>-122.108338</td>\n",
       "      <td>15</td>\n",
       "      <td>Mountain View</td>\n",
       "      <td>12/31/2013</td>\n",
       "    </tr>\n",
       "    <tr>\n",
       "      <th>25</th>\n",
       "      <td>32</td>\n",
       "      <td>Castro Street and El Camino Real</td>\n",
       "      <td>37.385956</td>\n",
       "      <td>-122.083678</td>\n",
       "      <td>11</td>\n",
       "      <td>Mountain View</td>\n",
       "      <td>12/31/2013</td>\n",
       "    </tr>\n",
       "    <tr>\n",
       "      <th>26</th>\n",
       "      <td>33</td>\n",
       "      <td>Rengstorff Avenue / California Street</td>\n",
       "      <td>37.400241</td>\n",
       "      <td>-122.099076</td>\n",
       "      <td>15</td>\n",
       "      <td>Mountain View</td>\n",
       "      <td>8/16/2013</td>\n",
       "    </tr>\n",
       "    <tr>\n",
       "      <th>27</th>\n",
       "      <td>34</td>\n",
       "      <td>Palo Alto Caltrain Station</td>\n",
       "      <td>37.443988</td>\n",
       "      <td>-122.164759</td>\n",
       "      <td>23</td>\n",
       "      <td>Palo Alto</td>\n",
       "      <td>8/14/2013</td>\n",
       "    </tr>\n",
       "    <tr>\n",
       "      <th>28</th>\n",
       "      <td>35</td>\n",
       "      <td>University and Emerson</td>\n",
       "      <td>37.444521</td>\n",
       "      <td>-122.163093</td>\n",
       "      <td>11</td>\n",
       "      <td>Palo Alto</td>\n",
       "      <td>8/15/2013</td>\n",
       "    </tr>\n",
       "    <tr>\n",
       "      <th>29</th>\n",
       "      <td>36</td>\n",
       "      <td>California Ave Caltrain Station</td>\n",
       "      <td>37.429082</td>\n",
       "      <td>-122.142805</td>\n",
       "      <td>15</td>\n",
       "      <td>Palo Alto</td>\n",
       "      <td>8/14/2013</td>\n",
       "    </tr>\n",
       "    <tr>\n",
       "      <th>...</th>\n",
       "      <td>...</td>\n",
       "      <td>...</td>\n",
       "      <td>...</td>\n",
       "      <td>...</td>\n",
       "      <td>...</td>\n",
       "      <td>...</td>\n",
       "      <td>...</td>\n",
       "    </tr>\n",
       "    <tr>\n",
       "      <th>39</th>\n",
       "      <td>49</td>\n",
       "      <td>Spear at Folsom</td>\n",
       "      <td>37.789625</td>\n",
       "      <td>-122.390264</td>\n",
       "      <td>19</td>\n",
       "      <td>San Francisco</td>\n",
       "      <td>8/20/2013</td>\n",
       "    </tr>\n",
       "    <tr>\n",
       "      <th>40</th>\n",
       "      <td>50</td>\n",
       "      <td>Harry Bridges Plaza (Ferry Building)</td>\n",
       "      <td>37.795392</td>\n",
       "      <td>-122.394203</td>\n",
       "      <td>23</td>\n",
       "      <td>San Francisco</td>\n",
       "      <td>8/20/2013</td>\n",
       "    </tr>\n",
       "    <tr>\n",
       "      <th>41</th>\n",
       "      <td>51</td>\n",
       "      <td>Embarcadero at Folsom</td>\n",
       "      <td>37.791464</td>\n",
       "      <td>-122.391034</td>\n",
       "      <td>19</td>\n",
       "      <td>San Francisco</td>\n",
       "      <td>8/20/2013</td>\n",
       "    </tr>\n",
       "    <tr>\n",
       "      <th>42</th>\n",
       "      <td>54</td>\n",
       "      <td>Embarcadero at Bryant</td>\n",
       "      <td>37.787152</td>\n",
       "      <td>-122.388013</td>\n",
       "      <td>15</td>\n",
       "      <td>San Francisco</td>\n",
       "      <td>8/20/2013</td>\n",
       "    </tr>\n",
       "    <tr>\n",
       "      <th>43</th>\n",
       "      <td>55</td>\n",
       "      <td>Temporary Transbay Terminal (Howard at Beale)</td>\n",
       "      <td>37.789756</td>\n",
       "      <td>-122.394643</td>\n",
       "      <td>23</td>\n",
       "      <td>San Francisco</td>\n",
       "      <td>8/20/2013</td>\n",
       "    </tr>\n",
       "    <tr>\n",
       "      <th>44</th>\n",
       "      <td>56</td>\n",
       "      <td>Beale at Market</td>\n",
       "      <td>37.792251</td>\n",
       "      <td>-122.397086</td>\n",
       "      <td>19</td>\n",
       "      <td>San Francisco</td>\n",
       "      <td>8/20/2013</td>\n",
       "    </tr>\n",
       "    <tr>\n",
       "      <th>45</th>\n",
       "      <td>57</td>\n",
       "      <td>5th at Howard</td>\n",
       "      <td>37.781752</td>\n",
       "      <td>-122.405127</td>\n",
       "      <td>15</td>\n",
       "      <td>San Francisco</td>\n",
       "      <td>8/21/2013</td>\n",
       "    </tr>\n",
       "    <tr>\n",
       "      <th>46</th>\n",
       "      <td>58</td>\n",
       "      <td>San Francisco City Hall</td>\n",
       "      <td>37.778650</td>\n",
       "      <td>-122.418235</td>\n",
       "      <td>19</td>\n",
       "      <td>San Francisco</td>\n",
       "      <td>8/21/2013</td>\n",
       "    </tr>\n",
       "    <tr>\n",
       "      <th>47</th>\n",
       "      <td>59</td>\n",
       "      <td>Golden Gate at Polk</td>\n",
       "      <td>37.781332</td>\n",
       "      <td>-122.418603</td>\n",
       "      <td>23</td>\n",
       "      <td>San Francisco</td>\n",
       "      <td>8/21/2013</td>\n",
       "    </tr>\n",
       "    <tr>\n",
       "      <th>48</th>\n",
       "      <td>60</td>\n",
       "      <td>Embarcadero at Sansome</td>\n",
       "      <td>37.804770</td>\n",
       "      <td>-122.403234</td>\n",
       "      <td>15</td>\n",
       "      <td>San Francisco</td>\n",
       "      <td>8/21/2013</td>\n",
       "    </tr>\n",
       "    <tr>\n",
       "      <th>49</th>\n",
       "      <td>61</td>\n",
       "      <td>2nd at Townsend</td>\n",
       "      <td>37.780526</td>\n",
       "      <td>-122.390288</td>\n",
       "      <td>27</td>\n",
       "      <td>San Francisco</td>\n",
       "      <td>8/22/2013</td>\n",
       "    </tr>\n",
       "    <tr>\n",
       "      <th>50</th>\n",
       "      <td>62</td>\n",
       "      <td>2nd at Folsom</td>\n",
       "      <td>37.785299</td>\n",
       "      <td>-122.396236</td>\n",
       "      <td>19</td>\n",
       "      <td>San Francisco</td>\n",
       "      <td>8/22/2013</td>\n",
       "    </tr>\n",
       "    <tr>\n",
       "      <th>51</th>\n",
       "      <td>63</td>\n",
       "      <td>Howard at 2nd</td>\n",
       "      <td>37.786978</td>\n",
       "      <td>-122.398108</td>\n",
       "      <td>19</td>\n",
       "      <td>San Francisco</td>\n",
       "      <td>8/22/2013</td>\n",
       "    </tr>\n",
       "    <tr>\n",
       "      <th>52</th>\n",
       "      <td>64</td>\n",
       "      <td>2nd at South Park</td>\n",
       "      <td>37.782259</td>\n",
       "      <td>-122.392738</td>\n",
       "      <td>15</td>\n",
       "      <td>San Francisco</td>\n",
       "      <td>8/22/2013</td>\n",
       "    </tr>\n",
       "    <tr>\n",
       "      <th>53</th>\n",
       "      <td>65</td>\n",
       "      <td>Townsend at 7th</td>\n",
       "      <td>37.771058</td>\n",
       "      <td>-122.402717</td>\n",
       "      <td>15</td>\n",
       "      <td>San Francisco</td>\n",
       "      <td>8/22/2013</td>\n",
       "    </tr>\n",
       "    <tr>\n",
       "      <th>54</th>\n",
       "      <td>66</td>\n",
       "      <td>South Van Ness at Market</td>\n",
       "      <td>37.774814</td>\n",
       "      <td>-122.418954</td>\n",
       "      <td>19</td>\n",
       "      <td>San Francisco</td>\n",
       "      <td>8/23/2013</td>\n",
       "    </tr>\n",
       "    <tr>\n",
       "      <th>55</th>\n",
       "      <td>67</td>\n",
       "      <td>Market at 10th</td>\n",
       "      <td>37.776619</td>\n",
       "      <td>-122.417385</td>\n",
       "      <td>27</td>\n",
       "      <td>San Francisco</td>\n",
       "      <td>8/23/2013</td>\n",
       "    </tr>\n",
       "    <tr>\n",
       "      <th>56</th>\n",
       "      <td>68</td>\n",
       "      <td>Yerba Buena Center of the Arts (3rd @ Howard)</td>\n",
       "      <td>37.784878</td>\n",
       "      <td>-122.401014</td>\n",
       "      <td>19</td>\n",
       "      <td>San Francisco</td>\n",
       "      <td>8/23/2013</td>\n",
       "    </tr>\n",
       "    <tr>\n",
       "      <th>57</th>\n",
       "      <td>69</td>\n",
       "      <td>San Francisco Caltrain 2 (330 Townsend)</td>\n",
       "      <td>37.776377</td>\n",
       "      <td>-122.396070</td>\n",
       "      <td>23</td>\n",
       "      <td>San Francisco</td>\n",
       "      <td>8/23/2013</td>\n",
       "    </tr>\n",
       "    <tr>\n",
       "      <th>58</th>\n",
       "      <td>70</td>\n",
       "      <td>San Francisco Caltrain (Townsend at 4th)</td>\n",
       "      <td>37.776617</td>\n",
       "      <td>-122.395260</td>\n",
       "      <td>19</td>\n",
       "      <td>San Francisco</td>\n",
       "      <td>8/23/2013</td>\n",
       "    </tr>\n",
       "    <tr>\n",
       "      <th>59</th>\n",
       "      <td>71</td>\n",
       "      <td>Powell at Post (Union Square)</td>\n",
       "      <td>37.788446</td>\n",
       "      <td>-122.408499</td>\n",
       "      <td>19</td>\n",
       "      <td>San Francisco</td>\n",
       "      <td>8/23/2013</td>\n",
       "    </tr>\n",
       "    <tr>\n",
       "      <th>60</th>\n",
       "      <td>72</td>\n",
       "      <td>Civic Center BART (7th at Market)</td>\n",
       "      <td>37.780356</td>\n",
       "      <td>-122.412919</td>\n",
       "      <td>23</td>\n",
       "      <td>San Francisco</td>\n",
       "      <td>8/23/2013</td>\n",
       "    </tr>\n",
       "    <tr>\n",
       "      <th>61</th>\n",
       "      <td>73</td>\n",
       "      <td>Grant Avenue at Columbus Avenue</td>\n",
       "      <td>37.798522</td>\n",
       "      <td>-122.407245</td>\n",
       "      <td>15</td>\n",
       "      <td>San Francisco</td>\n",
       "      <td>8/21/2013</td>\n",
       "    </tr>\n",
       "    <tr>\n",
       "      <th>62</th>\n",
       "      <td>74</td>\n",
       "      <td>Steuart at Market</td>\n",
       "      <td>37.794139</td>\n",
       "      <td>-122.394434</td>\n",
       "      <td>23</td>\n",
       "      <td>San Francisco</td>\n",
       "      <td>8/25/2013</td>\n",
       "    </tr>\n",
       "    <tr>\n",
       "      <th>63</th>\n",
       "      <td>75</td>\n",
       "      <td>Mechanics Plaza (Market at Battery)</td>\n",
       "      <td>37.791300</td>\n",
       "      <td>-122.399051</td>\n",
       "      <td>19</td>\n",
       "      <td>San Francisco</td>\n",
       "      <td>8/25/2013</td>\n",
       "    </tr>\n",
       "    <tr>\n",
       "      <th>64</th>\n",
       "      <td>76</td>\n",
       "      <td>Market at 4th</td>\n",
       "      <td>37.786305</td>\n",
       "      <td>-122.404966</td>\n",
       "      <td>19</td>\n",
       "      <td>San Francisco</td>\n",
       "      <td>8/25/2013</td>\n",
       "    </tr>\n",
       "    <tr>\n",
       "      <th>65</th>\n",
       "      <td>77</td>\n",
       "      <td>Market at Sansome</td>\n",
       "      <td>37.789625</td>\n",
       "      <td>-122.400811</td>\n",
       "      <td>27</td>\n",
       "      <td>San Francisco</td>\n",
       "      <td>8/25/2013</td>\n",
       "    </tr>\n",
       "    <tr>\n",
       "      <th>66</th>\n",
       "      <td>80</td>\n",
       "      <td>San Jose Government Center</td>\n",
       "      <td>37.352601</td>\n",
       "      <td>-121.905733</td>\n",
       "      <td>15</td>\n",
       "      <td>San Jose</td>\n",
       "      <td>12/31/2013</td>\n",
       "    </tr>\n",
       "    <tr>\n",
       "      <th>67</th>\n",
       "      <td>82</td>\n",
       "      <td>Broadway St at Battery St</td>\n",
       "      <td>37.798541</td>\n",
       "      <td>-122.400862</td>\n",
       "      <td>15</td>\n",
       "      <td>San Francisco</td>\n",
       "      <td>1/22/2014</td>\n",
       "    </tr>\n",
       "    <tr>\n",
       "      <th>68</th>\n",
       "      <td>83</td>\n",
       "      <td>Mezes Park</td>\n",
       "      <td>37.491269</td>\n",
       "      <td>-122.236234</td>\n",
       "      <td>15</td>\n",
       "      <td>Redwood City</td>\n",
       "      <td>2/20/2014</td>\n",
       "    </tr>\n",
       "  </tbody>\n",
       "</table>\n",
       "<p>69 rows × 7 columns</p>\n",
       "</div>"
      ],
      "text/plain": [
       "    station_id                                           name        lat  \\\n",
       "0            2              San Jose Diridon Caltrain Station  37.329732   \n",
       "1            3                          San Jose Civic Center  37.330698   \n",
       "2            4                         Santa Clara at Almaden  37.333988   \n",
       "3            5                               Adobe on Almaden  37.331415   \n",
       "4            6                               San Pedro Square  37.336721   \n",
       "5            7                           Paseo de San Antonio  37.333798   \n",
       "6            8                            San Salvador at 1st  37.330165   \n",
       "7            9                                      Japantown  37.348742   \n",
       "8           10                             San Jose City Hall  37.337391   \n",
       "9           11                                    MLK Library  37.335885   \n",
       "10          12                         SJSU 4th at San Carlos  37.332808   \n",
       "11          13                                  St James Park  37.339301   \n",
       "12          14                       Arena Green / SAP Center  37.332692   \n",
       "13          16                     SJSU - San Salvador at 9th  37.333955   \n",
       "14          21                              Franklin at Maple  37.481758   \n",
       "15          22                  Redwood City Caltrain Station  37.486078   \n",
       "16          23                        San Mateo County Center  37.488501   \n",
       "17          24                    Redwood City Public Library  37.484219   \n",
       "18          25                               Broadway at Main  37.486725   \n",
       "19          26                    Redwood City Medical Center  37.487682   \n",
       "20          27                        Mountain View City Hall  37.389218   \n",
       "21          28                 Mountain View Caltrain Station  37.394358   \n",
       "22          29                   San Antonio Caltrain Station  37.406940   \n",
       "23          30                           Evelyn Park and Ride  37.390277   \n",
       "24          31                    San Antonio Shopping Center  37.400443   \n",
       "25          32               Castro Street and El Camino Real  37.385956   \n",
       "26          33          Rengstorff Avenue / California Street  37.400241   \n",
       "27          34                     Palo Alto Caltrain Station  37.443988   \n",
       "28          35                         University and Emerson  37.444521   \n",
       "29          36                California Ave Caltrain Station  37.429082   \n",
       "..         ...                                            ...        ...   \n",
       "39          49                                Spear at Folsom  37.789625   \n",
       "40          50           Harry Bridges Plaza (Ferry Building)  37.795392   \n",
       "41          51                          Embarcadero at Folsom  37.791464   \n",
       "42          54                          Embarcadero at Bryant  37.787152   \n",
       "43          55  Temporary Transbay Terminal (Howard at Beale)  37.789756   \n",
       "44          56                                Beale at Market  37.792251   \n",
       "45          57                                  5th at Howard  37.781752   \n",
       "46          58                        San Francisco City Hall  37.778650   \n",
       "47          59                            Golden Gate at Polk  37.781332   \n",
       "48          60                         Embarcadero at Sansome  37.804770   \n",
       "49          61                                2nd at Townsend  37.780526   \n",
       "50          62                                  2nd at Folsom  37.785299   \n",
       "51          63                                  Howard at 2nd  37.786978   \n",
       "52          64                              2nd at South Park  37.782259   \n",
       "53          65                                Townsend at 7th  37.771058   \n",
       "54          66                       South Van Ness at Market  37.774814   \n",
       "55          67                                 Market at 10th  37.776619   \n",
       "56          68  Yerba Buena Center of the Arts (3rd @ Howard)  37.784878   \n",
       "57          69        San Francisco Caltrain 2 (330 Townsend)  37.776377   \n",
       "58          70       San Francisco Caltrain (Townsend at 4th)  37.776617   \n",
       "59          71                  Powell at Post (Union Square)  37.788446   \n",
       "60          72              Civic Center BART (7th at Market)  37.780356   \n",
       "61          73                Grant Avenue at Columbus Avenue  37.798522   \n",
       "62          74                              Steuart at Market  37.794139   \n",
       "63          75            Mechanics Plaza (Market at Battery)  37.791300   \n",
       "64          76                                  Market at 4th  37.786305   \n",
       "65          77                              Market at Sansome  37.789625   \n",
       "66          80                     San Jose Government Center  37.352601   \n",
       "67          82                      Broadway St at Battery St  37.798541   \n",
       "68          83                                     Mezes Park  37.491269   \n",
       "\n",
       "          long  dockcount       landmark installation  \n",
       "0  -121.901782         27       San Jose     8/6/2013  \n",
       "1  -121.888979         15       San Jose     8/5/2013  \n",
       "2  -121.894902         11       San Jose     8/6/2013  \n",
       "3  -121.893200         19       San Jose     8/5/2013  \n",
       "4  -121.894074         15       San Jose     8/7/2013  \n",
       "5  -121.886943         15       San Jose     8/7/2013  \n",
       "6  -121.885831         15       San Jose     8/5/2013  \n",
       "7  -121.894715         15       San Jose     8/5/2013  \n",
       "8  -121.886995         15       San Jose     8/6/2013  \n",
       "9  -121.885660         19       San Jose     8/6/2013  \n",
       "10 -121.883891         19       San Jose     8/7/2013  \n",
       "11 -121.889937         15       San Jose     8/6/2013  \n",
       "12 -121.900084         19       San Jose     8/5/2013  \n",
       "13 -121.877349         15       San Jose     8/7/2013  \n",
       "14 -122.226904         15   Redwood City    8/12/2013  \n",
       "15 -122.232089         25   Redwood City    8/15/2013  \n",
       "16 -122.231061         15   Redwood City    8/15/2013  \n",
       "17 -122.227424         15   Redwood City    8/12/2013  \n",
       "18 -122.225551         15   Redwood City    8/12/2013  \n",
       "19 -122.223492         15   Redwood City    8/12/2013  \n",
       "20 -122.081896         15  Mountain View    8/16/2013  \n",
       "21 -122.076713         23  Mountain View    8/15/2013  \n",
       "22 -122.106758         23  Mountain View    8/15/2013  \n",
       "23 -122.066553         15  Mountain View    8/16/2013  \n",
       "24 -122.108338         15  Mountain View   12/31/2013  \n",
       "25 -122.083678         11  Mountain View   12/31/2013  \n",
       "26 -122.099076         15  Mountain View    8/16/2013  \n",
       "27 -122.164759         23      Palo Alto    8/14/2013  \n",
       "28 -122.163093         11      Palo Alto    8/15/2013  \n",
       "29 -122.142805         15      Palo Alto    8/14/2013  \n",
       "..         ...        ...            ...          ...  \n",
       "39 -122.390264         19  San Francisco    8/20/2013  \n",
       "40 -122.394203         23  San Francisco    8/20/2013  \n",
       "41 -122.391034         19  San Francisco    8/20/2013  \n",
       "42 -122.388013         15  San Francisco    8/20/2013  \n",
       "43 -122.394643         23  San Francisco    8/20/2013  \n",
       "44 -122.397086         19  San Francisco    8/20/2013  \n",
       "45 -122.405127         15  San Francisco    8/21/2013  \n",
       "46 -122.418235         19  San Francisco    8/21/2013  \n",
       "47 -122.418603         23  San Francisco    8/21/2013  \n",
       "48 -122.403234         15  San Francisco    8/21/2013  \n",
       "49 -122.390288         27  San Francisco    8/22/2013  \n",
       "50 -122.396236         19  San Francisco    8/22/2013  \n",
       "51 -122.398108         19  San Francisco    8/22/2013  \n",
       "52 -122.392738         15  San Francisco    8/22/2013  \n",
       "53 -122.402717         15  San Francisco    8/22/2013  \n",
       "54 -122.418954         19  San Francisco    8/23/2013  \n",
       "55 -122.417385         27  San Francisco    8/23/2013  \n",
       "56 -122.401014         19  San Francisco    8/23/2013  \n",
       "57 -122.396070         23  San Francisco    8/23/2013  \n",
       "58 -122.395260         19  San Francisco    8/23/2013  \n",
       "59 -122.408499         19  San Francisco    8/23/2013  \n",
       "60 -122.412919         23  San Francisco    8/23/2013  \n",
       "61 -122.407245         15  San Francisco    8/21/2013  \n",
       "62 -122.394434         23  San Francisco    8/25/2013  \n",
       "63 -122.399051         19  San Francisco    8/25/2013  \n",
       "64 -122.404966         19  San Francisco    8/25/2013  \n",
       "65 -122.400811         27  San Francisco    8/25/2013  \n",
       "66 -121.905733         15       San Jose   12/31/2013  \n",
       "67 -122.400862         15  San Francisco    1/22/2014  \n",
       "68 -122.236234         15   Redwood City    2/20/2014  \n",
       "\n",
       "[69 rows x 7 columns]"
      ]
     },
     "execution_count": 4,
     "metadata": {},
     "output_type": "execute_result"
    }
   ],
   "source": [
    "df_station"
   ]
  },
  {
   "cell_type": "code",
   "execution_count": 123,
   "metadata": {
    "collapsed": false
   },
   "outputs": [
    {
     "data": {
      "text/plain": [
       "Index([u'Trip ID', u'Duration', u'Start Date Time', u'Start Station',\n",
       "       u'Start Terminal', u'End Date Time', u'End Station', u'End Terminal',\n",
       "       u'Bike #', u'Subscription Type', u'Zip Code', u'Start Date',\n",
       "       u'Start Time', u'End Date', u'End Time', u'station_id_x',\n",
       "       u'Start Latitute', u'Start Longitude', u'Start Station Dockcount',\n",
       "       u'Start Station Landmark', u'Start Station Installation',\n",
       "       u'station_id_y', u'End Latitute', u'End Longitude',\n",
       "       u'End Station Dockcount', u'End Station Landmark',\n",
       "       u'End Station Installation', u'month', u'day_of_month', u'hour_of_day',\n",
       "       u'day_of_week', u'weekend'],\n",
       "      dtype='object')"
      ]
     },
     "execution_count": 123,
     "metadata": {},
     "output_type": "execute_result"
    }
   ],
   "source": [
    "df.columns"
   ]
  },
  {
   "cell_type": "code",
   "execution_count": 60,
   "metadata": {
    "collapsed": false
   },
   "outputs": [
    {
     "data": {
      "text/html": [
       "<div>\n",
       "<table border=\"1\" class=\"dataframe\">\n",
       "  <thead>\n",
       "    <tr style=\"text-align: right;\">\n",
       "      <th></th>\n",
       "      <th>Trip ID</th>\n",
       "      <th>Duration</th>\n",
       "      <th>Start Date Time</th>\n",
       "      <th>Start Station</th>\n",
       "      <th>Start Terminal</th>\n",
       "      <th>End Date Time</th>\n",
       "      <th>End Station</th>\n",
       "      <th>End Terminal</th>\n",
       "      <th>Bike #</th>\n",
       "      <th>Subscription Type</th>\n",
       "      <th>...</th>\n",
       "      <th>Start Longitude</th>\n",
       "      <th>Start Station Dockcount</th>\n",
       "      <th>Start Station Landmark</th>\n",
       "      <th>Start Station Installation</th>\n",
       "      <th>station_id_y</th>\n",
       "      <th>End Latitute</th>\n",
       "      <th>End Longitude</th>\n",
       "      <th>End Station Dockcount</th>\n",
       "      <th>End Station Landmark</th>\n",
       "      <th>End Station Installation</th>\n",
       "    </tr>\n",
       "  </thead>\n",
       "  <tbody>\n",
       "    <tr>\n",
       "      <th>0</th>\n",
       "      <td>4576</td>\n",
       "      <td>63</td>\n",
       "      <td>8/29/2013 14:13</td>\n",
       "      <td>South Van Ness at Market</td>\n",
       "      <td>66</td>\n",
       "      <td>8/29/2013 14:14</td>\n",
       "      <td>South Van Ness at Market</td>\n",
       "      <td>66</td>\n",
       "      <td>520</td>\n",
       "      <td>Subscriber</td>\n",
       "      <td>...</td>\n",
       "      <td>-122.418954</td>\n",
       "      <td>19</td>\n",
       "      <td>San Francisco</td>\n",
       "      <td>8/23/2013</td>\n",
       "      <td>66</td>\n",
       "      <td>37.774814</td>\n",
       "      <td>-122.418954</td>\n",
       "      <td>19</td>\n",
       "      <td>San Francisco</td>\n",
       "      <td>8/23/2013</td>\n",
       "    </tr>\n",
       "    <tr>\n",
       "      <th>1</th>\n",
       "      <td>4760</td>\n",
       "      <td>113</td>\n",
       "      <td>8/29/2013 17:01</td>\n",
       "      <td>South Van Ness at Market</td>\n",
       "      <td>66</td>\n",
       "      <td>8/29/2013 17:03</td>\n",
       "      <td>South Van Ness at Market</td>\n",
       "      <td>66</td>\n",
       "      <td>553</td>\n",
       "      <td>Subscriber</td>\n",
       "      <td>...</td>\n",
       "      <td>-122.418954</td>\n",
       "      <td>19</td>\n",
       "      <td>San Francisco</td>\n",
       "      <td>8/23/2013</td>\n",
       "      <td>66</td>\n",
       "      <td>37.774814</td>\n",
       "      <td>-122.418954</td>\n",
       "      <td>19</td>\n",
       "      <td>San Francisco</td>\n",
       "      <td>8/23/2013</td>\n",
       "    </tr>\n",
       "    <tr>\n",
       "      <th>2</th>\n",
       "      <td>5070</td>\n",
       "      <td>168</td>\n",
       "      <td>8/29/2013 21:43</td>\n",
       "      <td>South Van Ness at Market</td>\n",
       "      <td>66</td>\n",
       "      <td>8/29/2013 21:46</td>\n",
       "      <td>South Van Ness at Market</td>\n",
       "      <td>66</td>\n",
       "      <td>598</td>\n",
       "      <td>Subscriber</td>\n",
       "      <td>...</td>\n",
       "      <td>-122.418954</td>\n",
       "      <td>19</td>\n",
       "      <td>San Francisco</td>\n",
       "      <td>8/23/2013</td>\n",
       "      <td>66</td>\n",
       "      <td>37.774814</td>\n",
       "      <td>-122.418954</td>\n",
       "      <td>19</td>\n",
       "      <td>San Francisco</td>\n",
       "      <td>8/23/2013</td>\n",
       "    </tr>\n",
       "    <tr>\n",
       "      <th>3</th>\n",
       "      <td>4584</td>\n",
       "      <td>262</td>\n",
       "      <td>8/29/2013 14:17</td>\n",
       "      <td>South Van Ness at Market</td>\n",
       "      <td>66</td>\n",
       "      <td>8/29/2013 14:21</td>\n",
       "      <td>South Van Ness at Market</td>\n",
       "      <td>66</td>\n",
       "      <td>587</td>\n",
       "      <td>Subscriber</td>\n",
       "      <td>...</td>\n",
       "      <td>-122.418954</td>\n",
       "      <td>19</td>\n",
       "      <td>San Francisco</td>\n",
       "      <td>8/23/2013</td>\n",
       "      <td>66</td>\n",
       "      <td>37.774814</td>\n",
       "      <td>-122.418954</td>\n",
       "      <td>19</td>\n",
       "      <td>San Francisco</td>\n",
       "      <td>8/23/2013</td>\n",
       "    </tr>\n",
       "    <tr>\n",
       "      <th>4</th>\n",
       "      <td>4079</td>\n",
       "      <td>995</td>\n",
       "      <td>8/29/2013 9:35</td>\n",
       "      <td>South Van Ness at Market</td>\n",
       "      <td>66</td>\n",
       "      <td>8/29/2013 9:52</td>\n",
       "      <td>South Van Ness at Market</td>\n",
       "      <td>66</td>\n",
       "      <td>327</td>\n",
       "      <td>Subscriber</td>\n",
       "      <td>...</td>\n",
       "      <td>-122.418954</td>\n",
       "      <td>19</td>\n",
       "      <td>San Francisco</td>\n",
       "      <td>8/23/2013</td>\n",
       "      <td>66</td>\n",
       "      <td>37.774814</td>\n",
       "      <td>-122.418954</td>\n",
       "      <td>19</td>\n",
       "      <td>San Francisco</td>\n",
       "      <td>8/23/2013</td>\n",
       "    </tr>\n",
       "  </tbody>\n",
       "</table>\n",
       "<p>5 rows × 27 columns</p>\n",
       "</div>"
      ],
      "text/plain": [
       "   Trip ID  Duration  Start Date Time             Start Station  \\\n",
       "0     4576        63  8/29/2013 14:13  South Van Ness at Market   \n",
       "1     4760       113  8/29/2013 17:01  South Van Ness at Market   \n",
       "2     5070       168  8/29/2013 21:43  South Van Ness at Market   \n",
       "3     4584       262  8/29/2013 14:17  South Van Ness at Market   \n",
       "4     4079       995   8/29/2013 9:35  South Van Ness at Market   \n",
       "\n",
       "   Start Terminal    End Date Time               End Station  End Terminal  \\\n",
       "0              66  8/29/2013 14:14  South Van Ness at Market            66   \n",
       "1              66  8/29/2013 17:03  South Van Ness at Market            66   \n",
       "2              66  8/29/2013 21:46  South Van Ness at Market            66   \n",
       "3              66  8/29/2013 14:21  South Van Ness at Market            66   \n",
       "4              66   8/29/2013 9:52  South Van Ness at Market            66   \n",
       "\n",
       "   Bike # Subscription Type           ...            Start Longitude  \\\n",
       "0     520        Subscriber           ...                -122.418954   \n",
       "1     553        Subscriber           ...                -122.418954   \n",
       "2     598        Subscriber           ...                -122.418954   \n",
       "3     587        Subscriber           ...                -122.418954   \n",
       "4     327        Subscriber           ...                -122.418954   \n",
       "\n",
       "  Start Station Dockcount Start Station Landmark Start Station Installation  \\\n",
       "0                      19          San Francisco                  8/23/2013   \n",
       "1                      19          San Francisco                  8/23/2013   \n",
       "2                      19          San Francisco                  8/23/2013   \n",
       "3                      19          San Francisco                  8/23/2013   \n",
       "4                      19          San Francisco                  8/23/2013   \n",
       "\n",
       "  station_id_y  End Latitute  End Longitude  End Station Dockcount  \\\n",
       "0           66     37.774814    -122.418954                     19   \n",
       "1           66     37.774814    -122.418954                     19   \n",
       "2           66     37.774814    -122.418954                     19   \n",
       "3           66     37.774814    -122.418954                     19   \n",
       "4           66     37.774814    -122.418954                     19   \n",
       "\n",
       "   End Station Landmark End Station Installation  \n",
       "0         San Francisco                8/23/2013  \n",
       "1         San Francisco                8/23/2013  \n",
       "2         San Francisco                8/23/2013  \n",
       "3         San Francisco                8/23/2013  \n",
       "4         San Francisco                8/23/2013  \n",
       "\n",
       "[5 rows x 27 columns]"
      ]
     },
     "execution_count": 60,
     "metadata": {},
     "output_type": "execute_result"
    }
   ],
   "source": [
    "df.head()"
   ]
  },
  {
   "cell_type": "markdown",
   "metadata": {},
   "source": [
    "### Duration"
   ]
  },
  {
   "cell_type": "code",
   "execution_count": 9,
   "metadata": {
    "collapsed": false
   },
   "outputs": [
    {
     "data": {
      "text/plain": [
       "[]"
      ]
     },
     "execution_count": 9,
     "metadata": {},
     "output_type": "execute_result"
    },
    {
     "data": {
      "image/png": "[encoded data removed]",
      "text/plain": [
       "<matplotlib.figure.Figure at 0x103c26150>"
      ]
     },
     "metadata": {},
     "output_type": "display_data"
    }
   ],
   "source": [
    "df = df[df['Duration'] < 1440]\n",
    "df['minutes'] = df['Duration'] /60\n",
    "\n",
    "plt.hist(df['minutes'], bins = 10, range = (df['minutes'].min(),df['minutes'].max()), color=\"orange\")\n",
    "plt.title(\"Duration of Bike Rental\")\n",
    "plt.xlabel(\"Bike Ride in Minutes\")\n",
    "plt.ylabel(\"Frequency\")\n",
    "\n",
    "plt.plot()\n"
   ]
  },
  {
   "cell_type": "markdown",
   "metadata": {},
   "source": [
    "### Subscription Type"
   ]
  },
  {
   "cell_type": "code",
   "execution_count": 89,
   "metadata": {
    "collapsed": false
   },
   "outputs": [
    {
     "data": {
      "text/plain": [
       "Subscriber    111913\n",
       "Customer       19360\n",
       "dtype: int64"
      ]
     },
     "execution_count": 89,
     "metadata": {},
     "output_type": "execute_result"
    }
   ],
   "source": [
    "df['Subscription Type'].value_counts()"
   ]
  },
  {
   "cell_type": "code",
   "execution_count": 119,
   "metadata": {
    "collapsed": false
   },
   "outputs": [
    {
     "data": {
      "image/png": "[encoded data removed]",
      "text/plain": [
       "<matplotlib.figure.Figure at 0x1127d3410>"
      ]
     },
     "metadata": {},
     "output_type": "display_data"
    }
   ],
   "source": [
    "labels = ['Subscriber', 'Customer']\n",
    "fig, ax = plt.subplots()\n",
    "y = [df['Subscription Type'].value_counts()[0], df['Subscription Type'].value_counts()[1]]\n",
    "N = len(y)\n",
    "x = range(N)\n",
    "ax.set_xticklabels(labels, rotation='vertical')\n",
    "width = 1/1.5\n",
    "plt.bar(x, y, width, color=\"green\")\n",
    "plt.show()"
   ]
  },
  {
   "cell_type": "markdown",
   "metadata": {},
   "source": [
    "### Dock Counts"
   ]
  },
  {
   "cell_type": "code",
   "execution_count": 127,
   "metadata": {
    "collapsed": false
   },
   "outputs": [
    {
     "data": {
      "image/png": "[encoded data removed]",
      "text/plain": [
       "<matplotlib.figure.Figure at 0x10f14c9d0>"
      ]
     },
     "metadata": {},
     "output_type": "display_data"
    }
   ],
   "source": [
    "labels = df_station['name'].unique()\n",
    "fig, ax = plt.subplots()\n",
    "y = [df_station['dockcount'][i] for i in range(len(df_station))]\n",
    "N = len(y)\n",
    "x = range(N)\n",
    "ax.set_xticklabels(labels, rotation='vertical')\n",
    "width = 1/1.5\n",
    "plt.bar(x, y, width, color=\"blue\")\n",
    "plt.show()"
   ]
  },
  {
   "cell_type": "markdown",
   "metadata": {},
   "source": [
    "### Start Station"
   ]
  },
  {
   "cell_type": "code",
   "execution_count": 114,
   "metadata": {
    "collapsed": false
   },
   "outputs": [
    {
     "data": {
      "text/plain": [
       "San Francisco Caltrain (Townsend at 4th)         9473\n",
       "Harry Bridges Plaza (Ferry Building)             5993\n",
       "Market at Sansome                                5519\n",
       "Embarcadero at Sansome                           5360\n",
       "Temporary Transbay Terminal (Howard at Beale)    4959\n",
       "San Francisco Caltrain 2 (330 Townsend)          4801\n",
       "2nd at Townsend                                  4662\n",
       "Steuart at Market                                4537\n",
       "Market at 4th                                    4472\n",
       "Townsend at 7th                                  4316\n",
       "2nd at South Park                                4270\n",
       "2nd at Folsom                                    3655\n",
       "Grant Avenue at Columbus Avenue                  3633\n",
       "Powell Street BART                               3432\n",
       "South Van Ness at Market                         3318\n",
       "Spear at Folsom                                  3283\n",
       "Market at 10th                                   3242\n",
       "Embarcadero at Bryant                            3127\n",
       "Howard at 2nd                                    3106\n",
       "Beale at Market                                  2838\n",
       "Civic Center BART (7th at Market)                2802\n",
       "Embarcadero at Folsom                            2737\n",
       "Commercial at Montgomery                         2725\n",
       "Mechanics Plaza (Market at Battery)              2621\n",
       "5th at Howard                                    2419\n",
       "Powell at Post (Union Square)                    2395\n",
       "Post at Kearney                                  2328\n",
       "Embarcadero at Vallejo                           2269\n",
       "Yerba Buena Center of the Arts (3rd @ Howard)    2259\n",
       "Clay at Battery                                  2201\n",
       "                                                 ... \n",
       "San Pedro Square                                  644\n",
       "Mountain View City Hall                           573\n",
       "San Salvador at 1st                               546\n",
       "MLK Library                                       456\n",
       "SJSU - San Salvador at 9th                        443\n",
       "Japantown                                         431\n",
       "Palo Alto Caltrain Station                        343\n",
       "SJSU 4th at San Carlos                            340\n",
       "Redwood City Caltrain Station                     339\n",
       "St James Park                                     338\n",
       "Adobe on Almaden                                  301\n",
       "Arena Green / SAP Center                          289\n",
       "Cowper at University                              284\n",
       "San Jose Civic Center                             248\n",
       "California Ave Caltrain Station                   202\n",
       "Broadway St at Battery St                         193\n",
       "San Antonio Caltrain Station                      188\n",
       "Rengstorff Avenue / California Street             187\n",
       "Evelyn Park and Ride                              174\n",
       "University and Emerson                            159\n",
       "Park at Olive                                     136\n",
       "Redwood City Medical Center                       118\n",
       "Castro Street and El Camino Real                  107\n",
       "San Antonio Shopping Center                        95\n",
       "San Mateo County Center                            90\n",
       "Franklin at Maple                                  82\n",
       "Broadway at Main                                   32\n",
       "Redwood City Public Library                        30\n",
       "San Jose Government Center                         21\n",
       "Mezes Park                                          3\n",
       "dtype: int64"
      ]
     },
     "execution_count": 114,
     "metadata": {},
     "output_type": "execute_result"
    }
   ],
   "source": [
    "df['Start Station'].value_counts()"
   ]
  },
  {
   "cell_type": "code",
   "execution_count": 105,
   "metadata": {
    "collapsed": false
   },
   "outputs": [
    {
     "data": {
      "image/png": "[encoded data removed]",
      "text/plain": [
       "<matplotlib.figure.Figure at 0x10f0f4b90>"
      ]
     },
     "metadata": {},
     "output_type": "display_data"
    }
   ],
   "source": [
    "labels = df['Start Station'].unique()\n",
    "fig, ax = plt.subplots()\n",
    "y = [df['Start Station'].value_counts()[i] for i in range(len(df['Start Station'].unique()))]\n",
    "N = len(y)\n",
    "x = range(N)\n",
    "ax.set_xticklabels(labels, rotation='vertical')\n",
    "width = 1/1.5\n",
    "plt.bar(x, y, width, color=\"blue\")\n",
    "plt.show()"
   ]
  },
  {
   "cell_type": "markdown",
   "metadata": {},
   "source": [
    "### End Station"
   ]
  },
  {
   "cell_type": "code",
   "execution_count": 116,
   "metadata": {
    "collapsed": false
   },
   "outputs": [
    {
     "data": {
      "text/plain": [
       "San Francisco Caltrain (Townsend at 4th)         9473\n",
       "Harry Bridges Plaza (Ferry Building)             5993\n",
       "Market at Sansome                                5519\n",
       "Embarcadero at Sansome                           5360\n",
       "Temporary Transbay Terminal (Howard at Beale)    4959\n",
       "San Francisco Caltrain 2 (330 Townsend)          4801\n",
       "2nd at Townsend                                  4662\n",
       "Steuart at Market                                4537\n",
       "Market at 4th                                    4472\n",
       "Townsend at 7th                                  4316\n",
       "2nd at South Park                                4270\n",
       "2nd at Folsom                                    3655\n",
       "Grant Avenue at Columbus Avenue                  3633\n",
       "Powell Street BART                               3432\n",
       "South Van Ness at Market                         3318\n",
       "Spear at Folsom                                  3283\n",
       "Market at 10th                                   3242\n",
       "Embarcadero at Bryant                            3127\n",
       "Howard at 2nd                                    3106\n",
       "Beale at Market                                  2838\n",
       "Civic Center BART (7th at Market)                2802\n",
       "Embarcadero at Folsom                            2737\n",
       "Commercial at Montgomery                         2725\n",
       "Mechanics Plaza (Market at Battery)              2621\n",
       "5th at Howard                                    2419\n",
       "Powell at Post (Union Square)                    2395\n",
       "Post at Kearney                                  2328\n",
       "Embarcadero at Vallejo                           2269\n",
       "Yerba Buena Center of the Arts (3rd @ Howard)    2259\n",
       "Clay at Battery                                  2201\n",
       "                                                 ... \n",
       "San Pedro Square                                  644\n",
       "Mountain View City Hall                           573\n",
       "San Salvador at 1st                               546\n",
       "MLK Library                                       456\n",
       "SJSU - San Salvador at 9th                        443\n",
       "Japantown                                         431\n",
       "Palo Alto Caltrain Station                        343\n",
       "SJSU 4th at San Carlos                            340\n",
       "Redwood City Caltrain Station                     339\n",
       "St James Park                                     338\n",
       "Adobe on Almaden                                  301\n",
       "Arena Green / SAP Center                          289\n",
       "Cowper at University                              284\n",
       "San Jose Civic Center                             248\n",
       "California Ave Caltrain Station                   202\n",
       "Broadway St at Battery St                         193\n",
       "San Antonio Caltrain Station                      188\n",
       "Rengstorff Avenue / California Street             187\n",
       "Evelyn Park and Ride                              174\n",
       "University and Emerson                            159\n",
       "Park at Olive                                     136\n",
       "Redwood City Medical Center                       118\n",
       "Castro Street and El Camino Real                  107\n",
       "San Antonio Shopping Center                        95\n",
       "San Mateo County Center                            90\n",
       "Franklin at Maple                                  82\n",
       "Broadway at Main                                   32\n",
       "Redwood City Public Library                        30\n",
       "San Jose Government Center                         21\n",
       "Mezes Park                                          3\n",
       "dtype: int64"
      ]
     },
     "execution_count": 116,
     "metadata": {},
     "output_type": "execute_result"
    }
   ],
   "source": [
    "df['Start Station'].value_counts()"
   ]
  },
  {
   "cell_type": "code",
   "execution_count": 115,
   "metadata": {
    "collapsed": false
   },
   "outputs": [
    {
     "data": {
      "image/png": "[encoded data removed]",
      "text/plain": [
       "<matplotlib.figure.Figure at 0x111938790>"
      ]
     },
     "metadata": {},
     "output_type": "display_data"
    }
   ],
   "source": [
    "labels = df['End Station'].unique()\n",
    "fig, ax = plt.subplots()\n",
    "y = [df['End Station'].value_counts()[i] for i in range(len(df['Start Station'].unique()))]\n",
    "N = len(y)\n",
    "x = range(N)\n",
    "ax.set_xticklabels(labels, rotation='vertical')\n",
    "width = 1/1.5\n",
    "plt.bar(x, y, width, color=\"red\")\n",
    "plt.show()"
   ]
  },
  {
   "cell_type": "markdown",
   "metadata": {},
   "source": [
    "### Start Zip Code/Lat-Long"
   ]
  },
  {
   "cell_type": "markdown",
   "metadata": {},
   "source": [
    "### End Zip code/Lat- Long"
   ]
  },
  {
   "cell_type": "markdown",
   "metadata": {},
   "source": [
    "# New Features"
   ]
  },
  {
   "cell_type": "markdown",
   "metadata": {},
   "source": [
    "## Start"
   ]
  },
  {
   "cell_type": "code",
   "execution_count": 62,
   "metadata": {
    "collapsed": false
   },
   "outputs": [],
   "source": [
    "month =[]\n",
    "day_of_month =[]\n",
    "hour_of_day =[]\n",
    "day_of_week =[]\n",
    "weekend = []\n",
    "\n",
    "for i in range(len(df['Start Date Time'].values)):\n",
    "    date = datetime.strptime(df['Start Date Time'].values[i], \"%m/%d/%Y %H:%M\")\n",
    "    moy = date.month\n",
    "    dom = date.day\n",
    "    hod = date.hour\n",
    "    month.append(moy)\n",
    "    day_of_month.append(dom)\n",
    "    hour_of_day.append(hod)\n",
    "    day_of_week.append(date.isoweekday())\n",
    "    if date.isoweekday() in range(1, 6):\n",
    "        weekend.append(0)\n",
    "    else:\n",
    "        weekend.append(1)\n",
    "df['month'] = month\n",
    "df['day_of_month'] = day_of_month\n",
    "df['hour_of_day'] = hour_of_day\n",
    "df['day_of_week'] = day_of_week\n",
    "df['weekend'] = weekend"
   ]
  },
  {
   "cell_type": "markdown",
   "metadata": {},
   "source": [
    "### Day of the Week"
   ]
  },
  {
   "cell_type": "code",
   "execution_count": 77,
   "metadata": {
    "collapsed": false
   },
   "outputs": [
    {
     "data": {
      "text/plain": [
       "[]"
      ]
     },
     "execution_count": 77,
     "metadata": {},
     "output_type": "execute_result"
    },
    {
     "data": {
      "image/png": "[encoded data removed]",
      "text/plain": [
       "<matplotlib.figure.Figure at 0x108a85f10>"
      ]
     },
     "metadata": {},
     "output_type": "display_data"
    }
   ],
   "source": [
    "labels = ['Monday', 'Tuesday', 'Wednesday', 'Thursday', 'Friday', 'Saturday', 'Sunday']\n",
    "fig, ax = plt.subplots()\n",
    "plt.hist(df['day_of_week'], bins = 7, range = (df['day_of_week'].min(),df['day_of_week'].max()))\n",
    "ax.set_xticklabels(labels, rotation='vertical')\n",
    "plt.title(\"day of the Week for Bike Rental\")\n",
    "plt.xlabel(\"Day of the Week\")\n",
    "plt.ylabel(\"Frequency\")\n",
    "\n",
    "plt.plot()"
   ]
  },
  {
   "cell_type": "markdown",
   "metadata": {},
   "source": [
    "### Hour of the Day"
   ]
  },
  {
   "cell_type": "code",
   "execution_count": 79,
   "metadata": {
    "collapsed": false
   },
   "outputs": [
    {
     "data": {
      "text/plain": [
       "[]"
      ]
     },
     "execution_count": 79,
     "metadata": {},
     "output_type": "execute_result"
    },
    {
     "data": {
      "image/png": "[encoded data removed]",
      "text/plain": [
       "<matplotlib.figure.Figure at 0x10944fad0>"
      ]
     },
     "metadata": {},
     "output_type": "display_data"
    }
   ],
   "source": [
    "plt.hist(df['hour_of_day'], bins = 24, range = (df['hour_of_day'].min(),df['hour_of_day'].max()))\n",
    "plt.title(\"hour of day of Bike Rental\")\n",
    "plt.xlabel(\"Hour of the day of Bike Rental\")\n",
    "plt.ylabel(\"Frequency\")\n",
    "\n",
    "plt.plot()"
   ]
  },
  {
   "cell_type": "markdown",
   "metadata": {},
   "source": [
    "### Month"
   ]
  },
  {
   "cell_type": "code",
   "execution_count": 83,
   "metadata": {
    "collapsed": false
   },
   "outputs": [
    {
     "data": {
      "text/plain": [
       "[]"
      ]
     },
     "execution_count": 83,
     "metadata": {},
     "output_type": "execute_result"
    },
    {
     "data": {
      "image/png": "[encoded data removed]",
      "text/plain": [
       "<matplotlib.figure.Figure at 0x112798d50>"
      ]
     },
     "metadata": {},
     "output_type": "display_data"
    }
   ],
   "source": [
    "labels = ['January', 'February', 'March', 'April', 'May', 'June', 'July', 'August', 'September', 'October', 'November', 'December']\n",
    "fig, ax = plt.subplots()\n",
    "plt.hist(df['month'], bins = 12, range = (df['month'].min(),df['month'].max()))\n",
    "ax.set_xticklabels(labels, rotation='vertical')\n",
    "plt.title(\"month of Bike Rental\")\n",
    "plt.xlabel(\"Value\")\n",
    "plt.ylabel(\"Frequency\")\n",
    "\n",
    "plt.plot()"
   ]
  },
  {
   "cell_type": "markdown",
   "metadata": {},
   "source": [
    "### Weekend/Weekday"
   ]
  },
  {
   "cell_type": "code",
   "execution_count": 104,
   "metadata": {
    "collapsed": false
   },
   "outputs": [
    {
     "data": {
      "text/plain": [
       "<matplotlib.text.Text at 0x1127ce110>"
      ]
     },
     "execution_count": 104,
     "metadata": {},
     "output_type": "execute_result"
    },
    {
     "data": {
      "image/png": "[encoded data removed]",
      "text/plain": [
       "<matplotlib.figure.Figure at 0x10f0f7850>"
      ]
     },
     "metadata": {},
     "output_type": "display_data"
    }
   ],
   "source": [
    "labels = ['Weekday', 'Weekend']\n",
    "fig, ax = plt.subplots()\n",
    "plt.hist(df['weekend'],bins = 2, width = .4, range = (df['weekend'].min(),df['weekend'].max()) )\n",
    "plt.title(\"Is Weekend of Bike Rental\")\n",
    "ax.set_xticklabels(labels, rotation='vertical')\n",
    "plt.xlabel(\"Value\")\n",
    "plt.ylabel(\"Frequency\")"
   ]
  },
  {
   "cell_type": "markdown",
   "metadata": {},
   "source": [
    "### Distance"
   ]
  },
  {
   "cell_type": "markdown",
   "metadata": {},
   "source": [
    "## Plot Trips"
   ]
  },
  {
   "cell_type": "code",
   "execution_count": 129,
   "metadata": {
    "collapsed": false
   },
   "outputs": [
    {
     "data": {
      "text/plain": [
       "(37.80477, 37.329732, -121.877349, -122.418954)"
      ]
     },
     "execution_count": 129,
     "metadata": {},
     "output_type": "execute_result"
    }
   ],
   "source": [
    "df['Start Latitute'].max(), df['Start Latitute'].min(), df['Start Longitude'].max(), df['Start Longitude'].min()"
   ]
  },
  {
   "cell_type": "code",
   "execution_count": 137,
   "metadata": {
    "collapsed": false
   },
   "outputs": [
    {
     "data": {
      "text/plain": [
       "<matplotlib.collections.PathCollection at 0x10f0f4210>"
      ]
     },
     "execution_count": 137,
     "metadata": {},
     "output_type": "execute_result"
    },
    {
     "data": {
      "image/png": "[encoded data removed]",
      "text/plain": [
       "<matplotlib.figure.Figure at 0x108fc4390>"
      ]
     },
     "metadata": {},
     "output_type": "display_data"
    }
   ],
   "source": [
    "fig = plt.figure(figsize=(20,10))\n",
    "\n",
    "ax = fig.add_subplot(111)\n",
    "ax.set_axis_bgcolor('black')\n",
    "plt.scatter( x=df['Start Longitude'], y=df['Start Latitute'], color='white', s=.02,alpha=.6)"
   ]
  }
 ],
 "metadata": {
  "kernelspec": {
   "display_name": "Python 2",
   "language": "python",
   "name": "python2"
  },
  "language_info": {
   "codemirror_mode": {
    "name": "ipython",
    "version": 2
   },
   "file_extension": ".py",
   "mimetype": "text/x-python",
   "name": "python",
   "nbconvert_exporter": "python",
   "pygments_lexer": "ipython2",
   "version": "2.7.10"
  }
 },
 "nbformat": 4,
 "nbformat_minor": 0
}
