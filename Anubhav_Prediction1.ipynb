{
 "cells": [
  {
   "cell_type": "code",
   "execution_count": 72,
   "metadata": {
    "collapsed": false
   },
   "outputs": [],
   "source": [
    "import warnings\n",
    "\n",
    "import pickle\n",
    "import geopy\n",
    "import numpy as np\n",
    "import pandas as pd\n",
    "import matplotlib as mpl\n",
    "import matplotlib.pyplot as plt\n",
    "import seaborn as sns\n",
    "from geopy.distance import vincenty\n",
    "from sklearn.metrics import mean_squared_error\n",
    "from sklearn.cross_validation import cross_val_score\n",
    "from sklearn.preprocessing import normalize\n",
    "from sklearn.preprocessing import scale\n",
    "from sklearn.grid_search import GridSearchCV\n",
    "from sklearn.ensemble import RandomForestRegressor\n",
    "from sklearn.ensemble import GradientBoostingRegressor\n",
    "\n",
    "pd.set_option('display.max_columns', 1800)\n",
    "plt.style.use('ggplot')\n",
    "warnings.filterwarnings('ignore')\n",
    "\n",
    "%matplotlib inline"
   ]
  },
  {
   "cell_type": "code",
   "execution_count": 41,
   "metadata": {
    "collapsed": true
   },
   "outputs": [],
   "source": [
    "mpl.rc('savefig', dpi=200)\n",
    "params = {'figure.dpi' : 200,\n",
    "          'figure.figsize' : (12, 10),\n",
    "          'axes.axisbelow' : True,\n",
    "          'lines.antialiased' : True,\n",
    "          'axes.titlesize' : 'xx-large',\n",
    "          'axes.labelsize' : 'x-large',\n",
    "          'xtick.labelsize' : 'large',\n",
    "          'ytick.labelsize' : 'large'}\n",
    "\n",
    "for (k, v) in params.items():\n",
    "    plt.rcParams[k] = v"
   ]
  },
  {
   "cell_type": "code",
   "execution_count": 42,
   "metadata": {
    "collapsed": false
   },
   "outputs": [],
   "source": [
    "df = pd.read_csv(\"DATA/babs_master/merged_master.csv\")\n",
    "df_station = pd.read_csv(\"DATA/babs_master/station_master.csv\")\n",
    "df_weather = pd.read_csv(\"DATA/babs_master/weather_master.csv\")"
   ]
  },
  {
   "cell_type": "code",
   "execution_count": 43,
   "metadata": {
    "collapsed": false
   },
   "outputs": [],
   "source": [
    "distance = []\n",
    "for i in range(len(df)):\n",
    "    origin = (df['Start Latitute'][i], df['Start Longitude'][i])\n",
    "    destination = (df['End Latitute'][i], df['End Longitude'][i])\n",
    "    distance.append(vincenty(origin, destination).miles)\n",
    "\n",
    "df['distance'] = distance"
   ]
  },
  {
   "cell_type": "code",
   "execution_count": 70,
   "metadata": {
    "collapsed": false
   },
   "outputs": [
    {
     "data": {
      "text/plain": [
       "0.8308083377021603"
      ]
     },
     "execution_count": 70,
     "metadata": {},
     "output_type": "execute_result"
    }
   ],
   "source": [
    "# df['distance'].mean()"
   ]
  },
  {
   "cell_type": "code",
   "execution_count": 44,
   "metadata": {
    "collapsed": false
   },
   "outputs": [
    {
     "name": "stdout",
     "output_type": "stream",
     "text": [
      "Index([u'Trip ID', u'Duration', u'Start Date Time', u'Start Station',\n",
      "       u'Start Terminal', u'End Date Time', u'End Station', u'End Terminal',\n",
      "       u'Bike #', u'Subscription Type', u'Zip Code', u'Start Date',\n",
      "       u'Start Time', u'End Date', u'End Time', u'station_id_x',\n",
      "       u'Start Latitute', u'Start Longitude', u'Start Station Dockcount',\n",
      "       u'Start Station Landmark', u'Start Station Installation',\n",
      "       u'station_id_y', u'End Latitute', u'End Longitude',\n",
      "       u'End Station Dockcount', u'End Station Landmark',\n",
      "       u'End Station Installation', u'Max_Temperature_F',\n",
      "       u'Mean_Temperature_F', u'Min_TemperatureF', u'Max_Dew_Point_F',\n",
      "       u'MeanDew_Point_F', u'Min_Dewpoint_F', u'Max_Humidity',\n",
      "       u'Mean_Humidity ', u'Min_Humidity ', u'Max_Sea_Level_Pressure_In ',\n",
      "       u'Mean_Sea_Level_Pressure_In ', u'Min_Sea_Level_Pressure_In ',\n",
      "       u'Max_Visibility_Miles ', u'Mean_Visibility_Miles ',\n",
      "       u'Min_Visibility_Miles ', u'Max_Wind_Speed_MPH ',\n",
      "       u'Mean_Wind_Speed_MPH ', u'Max_Gust_Speed_MPH', u'Precipitation_In ',\n",
      "       u'Cloud_Cover ', u'Events', u'Wind_Dir_Degrees', u'month',\n",
      "       u'day_of_month', u'hour_of_day', u'day_of_week', u'weekend',\n",
      "       u'Duration_in_mins', u'distance'],\n",
      "      dtype='object')\n",
      "Index([u'station_id', u'name', u'lat', u'long', u'dockcount', u'landmark',\n",
      "       u'installation'],\n",
      "      dtype='object')\n",
      "Index([u'Date', u'Max_Temperature_F', u'Mean_Temperature_F',\n",
      "       u'Min_TemperatureF', u'Max_Dew_Point_F', u'MeanDew_Point_F',\n",
      "       u'Min_Dewpoint_F', u'Max_Humidity', u'Mean_Humidity ', u'Min_Humidity ',\n",
      "       u'Max_Sea_Level_Pressure_In ', u'Mean_Sea_Level_Pressure_In ',\n",
      "       u'Min_Sea_Level_Pressure_In ', u'Max_Visibility_Miles ',\n",
      "       u'Mean_Visibility_Miles ', u'Min_Visibility_Miles ',\n",
      "       u'Max_Wind_Speed_MPH ', u'Mean_Wind_Speed_MPH ', u'Max_Gust_Speed_MPH',\n",
      "       u'Precipitation_In ', u'Cloud_Cover ', u'Events', u'Wind_Dir_Degrees',\n",
      "       u'zip'],\n",
      "      dtype='object')\n"
     ]
    },
    {
     "data": {
      "text/plain": [
       "str"
      ]
     },
     "execution_count": 44,
     "metadata": {},
     "output_type": "execute_result"
    }
   ],
   "source": [
    "print(df.columns)\n",
    "print(df_station.columns)\n",
    "print(df_weather.columns)\n",
    "type(df_weather['Date'][1])"
   ]
  },
  {
   "cell_type": "code",
   "execution_count": 52,
   "metadata": {
    "collapsed": false
   },
   "outputs": [],
   "source": [
    "cols_target = ['Duration_in_mins']\n",
    "features = ['month', 'day_of_month', 'hour_of_day', 'day_of_week', 'weekend', 'distance']"
   ]
  },
  {
   "cell_type": "code",
   "execution_count": 62,
   "metadata": {
    "collapsed": false
   },
   "outputs": [
    {
     "data": {
      "text/plain": [
       "18.484703939824318"
      ]
     },
     "execution_count": 62,
     "metadata": {},
     "output_type": "execute_result"
    }
   ],
   "source": [
    "df['Duration_in_mins'].mean()"
   ]
  },
  {
   "cell_type": "code",
   "execution_count": 53,
   "metadata": {
    "collapsed": false
   },
   "outputs": [
    {
     "data": {
      "text/plain": [
       "(3235125, 56)"
      ]
     },
     "execution_count": 53,
     "metadata": {},
     "output_type": "execute_result"
    }
   ],
   "source": [
    "df.shape"
   ]
  },
  {
   "cell_type": "markdown",
   "metadata": {},
   "source": [
    "### Modelling\n"
   ]
  },
  {
   "cell_type": "code",
   "execution_count": 54,
   "metadata": {
    "collapsed": false
   },
   "outputs": [],
   "source": [
    "X_train = df[features]\n",
    "y_train = df[cols_target]"
   ]
  },
  {
   "cell_type": "code",
   "execution_count": 64,
   "metadata": {
    "collapsed": false
   },
   "outputs": [
    {
     "data": {
      "text/html": [
       "<div>\n",
       "<table border=\"1\" class=\"dataframe\">\n",
       "  <thead>\n",
       "    <tr style=\"text-align: right;\">\n",
       "      <th></th>\n",
       "      <th>month</th>\n",
       "      <th>day_of_month</th>\n",
       "      <th>hour_of_day</th>\n",
       "      <th>day_of_week</th>\n",
       "      <th>weekend</th>\n",
       "      <th>distance</th>\n",
       "    </tr>\n",
       "  </thead>\n",
       "  <tbody>\n",
       "    <tr>\n",
       "      <th>0</th>\n",
       "      <td>8</td>\n",
       "      <td>29</td>\n",
       "      <td>14</td>\n",
       "      <td>4</td>\n",
       "      <td>0</td>\n",
       "      <td>0</td>\n",
       "    </tr>\n",
       "    <tr>\n",
       "      <th>1</th>\n",
       "      <td>8</td>\n",
       "      <td>29</td>\n",
       "      <td>14</td>\n",
       "      <td>4</td>\n",
       "      <td>0</td>\n",
       "      <td>0</td>\n",
       "    </tr>\n",
       "    <tr>\n",
       "      <th>2</th>\n",
       "      <td>8</td>\n",
       "      <td>29</td>\n",
       "      <td>14</td>\n",
       "      <td>4</td>\n",
       "      <td>0</td>\n",
       "      <td>0</td>\n",
       "    </tr>\n",
       "    <tr>\n",
       "      <th>3</th>\n",
       "      <td>8</td>\n",
       "      <td>29</td>\n",
       "      <td>14</td>\n",
       "      <td>4</td>\n",
       "      <td>0</td>\n",
       "      <td>0</td>\n",
       "    </tr>\n",
       "    <tr>\n",
       "      <th>4</th>\n",
       "      <td>8</td>\n",
       "      <td>29</td>\n",
       "      <td>14</td>\n",
       "      <td>4</td>\n",
       "      <td>0</td>\n",
       "      <td>0</td>\n",
       "    </tr>\n",
       "  </tbody>\n",
       "</table>\n",
       "</div>"
      ],
      "text/plain": [
       "   month  day_of_month  hour_of_day  day_of_week  weekend  distance\n",
       "0      8            29           14            4        0         0\n",
       "1      8            29           14            4        0         0\n",
       "2      8            29           14            4        0         0\n",
       "3      8            29           14            4        0         0\n",
       "4      8            29           14            4        0         0"
      ]
     },
     "execution_count": 64,
     "metadata": {},
     "output_type": "execute_result"
    }
   ],
   "source": [
    "X_train.head()"
   ]
  },
  {
   "cell_type": "code",
   "execution_count": 56,
   "metadata": {
    "collapsed": true
   },
   "outputs": [],
   "source": [
    "names = X_train.columns[1:-1]"
   ]
  },
  {
   "cell_type": "markdown",
   "metadata": {},
   "source": [
    "#### Random Forest Regressor"
   ]
  },
  {
   "cell_type": "code",
   "execution_count": 57,
   "metadata": {
    "collapsed": false
   },
   "outputs": [
    {
     "name": "stdout",
     "output_type": "stream",
     "text": [
      "Features sorted by their score:\n",
      "[(0.23, 'hour_of_day'), (0.15, 'day_of_week'), (0.12, 'day_of_month'), (0.01, 'weekend')]\n"
     ]
    }
   ],
   "source": [
    "rf = RandomForestRegressor(random_state=1868)\n",
    "rf.fit(X_train, y_train)\n",
    "print(\"Features sorted by their score:\")\n",
    "print(sorted(zip(map(lambda x: round(x, 2), rf.feature_importances_), names), reverse=True))"
   ]
  },
  {
   "cell_type": "code",
   "execution_count": 61,
   "metadata": {
    "collapsed": false
   },
   "outputs": [
    {
     "data": {
      "text/plain": [
       "560.33233701851179"
      ]
     },
     "execution_count": 61,
     "metadata": {},
     "output_type": "execute_result"
    }
   ],
   "source": [
    "abs(np.mean(cross_val_score(rf, X_train, y_train, cv=5, scoring='mean_squared_error')))**0.5"
   ]
  },
  {
   "cell_type": "code",
   "execution_count": 73,
   "metadata": {
    "collapsed": false
   },
   "outputs": [],
   "source": [
    "with open('rf_regressor_duration.pickle','wb') as f:\n",
    "    pickle.dump(rf, f)"
   ]
  },
  {
   "cell_type": "markdown",
   "metadata": {},
   "source": [
    "#### Gradient Boosted Regression"
   ]
  },
  {
   "cell_type": "code",
   "execution_count": null,
   "metadata": {
    "collapsed": true
   },
   "outputs": [],
   "source": [
    "param_grid = {'learning_rate': [0.1, 0.05, 0.02, 0.01],\n",
    "              'max_depth': [4, 6],\n",
    "              'min_samples_leaf': [3, 5, 9, 17],\n",
    "              # 'max_features': [1.0, 0.3, 0.1] ## not possible in our example (only 1 fx)\n",
    "              }\n",
    "\n",
    "est = GradientBoostingRegressor(n_estimators=100)\n",
    "# this may take some minutes\n",
    "gs_cv = GridSearchCV(est, param_grid, n_jobs=4).fit(X_train, y_train)\n",
    "\n",
    "# best hyperparameter setting\n",
    "gs_cv.best_params_"
   ]
  },
  {
   "cell_type": "code",
   "execution_count": null,
   "metadata": {
    "collapsed": true
   },
   "outputs": [],
   "source": [
    "gbr = GradientBoostingRegressor(loss='ls', learning_rate=0.1, n_estimators=100, subsample=1.0, min_samples_split=2, min_samples_leaf=5, min_weight_fraction_leaf=0.0, max_depth=6, init=None, random_state=None, max_features=None, alpha=0.9, verbose=0, max_leaf_nodes=None, warm_start=False, presort='auto')\n",
    "abs(np.mean(cross_val_score(gbr, X_train, y_train, cv=5, scoring='mean_squared_error')))**0.5"
   ]
  },
  {
   "cell_type": "code",
   "execution_count": null,
   "metadata": {
    "collapsed": true
   },
   "outputs": [],
   "source": [
    "with open('gbr_regressor_duration.pickle','wb') as f:\n",
    "    pickle.dump(gbr, f)"
   ]
  }
 ],
 "metadata": {
  "kernelspec": {
   "display_name": "Python 2",
   "language": "python",
   "name": "python2"
  },
  "language_info": {
   "codemirror_mode": {
    "name": "ipython",
    "version": 2
   },
   "file_extension": ".py",
   "mimetype": "text/x-python",
   "name": "python",
   "nbconvert_exporter": "python",
   "pygments_lexer": "ipython2",
   "version": "2.7.10"
  }
 },
 "nbformat": 4,
 "nbformat_minor": 0
}
