{
 "metadata": {
  "name": ""
 },
 "nbformat": 3,
 "nbformat_minor": 0,
 "worksheets": [
  {
   "cells": [
    {
     "cell_type": "code",
     "collapsed": false,
     "input": [
      "import pandas as pd"
     ],
     "language": "python",
     "metadata": {},
     "outputs": [],
     "prompt_number": "*"
    },
    {
     "cell_type": "code",
     "collapsed": false,
     "input": [
      "def GetZipCodesByBurough():\n",
      "    zipcodesByB = pd.read_csv(\"../../../zipcodesByBuruough.csv\",header=None)\n",
      "    zipDiction={}\n",
      "    for i in range(zipcodesByB.count()[0]):\n",
      "        print zipcodesByB[0][i]\n",
      "        for row in zipcodesByB[1][i].split(\",\"):\n",
      "            zipDiction[int(row.strip())]=zipcodesByB[0][i]\n",
      "    return zipDiction\n",
      "\n",
      "def PickZipCode(Lat,Long,zipDiction):\n",
      "    #first pick min latitude\n",
      "    zipcodes_NY = pd.read_csv(\"../../../zipcode_NYC.csv\")\n",
      "    minLong = min(zipcodes_NY.longitude.tolist(), key=lambda x:abs(x-Long))\n",
      "    minLat = min(zipcodes_NY[zipcodes_NY.longitude == minLong].latitude.tolist(), key=lambda x:abs(x-Lat))\n",
      "#     print minLat,minLong\n",
      "    z = zipcodes_NY[((zipcodes_NY.longitude==minLong)&(zipcodes_NY.latitude==minLat))][\"zip\"].tolist()[0]\n",
      "#     print z\n",
      "    area = zipDiction[z]\n",
      "    return z,area"
     ],
     "language": "python",
     "metadata": {},
     "outputs": [],
     "prompt_number": "*"
    },
    {
     "cell_type": "code",
     "collapsed": false,
     "input": [
      "def AssignZipcodes(df,field):\n",
      "    count = df.count()[0]\n",
      "    zipz = [0]*count\n",
      "    area = [\"X\"]*count\n",
      "    zipDiction = GetZipCodesByBurough()\n",
      "    try:\n",
      "        for i in range(count):\n",
      "            zipz[i],area[i] = PickZipCode(df[\" \"+field+\"_latitude\"][i],df[\" \"+field+\"_longitude\"][i],zipDiction)\n",
      "    except:\n",
      "        print \"exception \"+str(i)\n",
      "    df[\"zipz\"]=zipz\n",
      "    df[field+\"area\"]=area"
     ],
     "language": "python",
     "metadata": {},
     "outputs": [],
     "prompt_number": 3
    },
    {
     "cell_type": "code",
     "collapsed": false,
     "input": [
      "master_df = pd.read_csv(\"../../data/final.csv\")"
     ],
     "language": "python",
     "metadata": {},
     "outputs": [
      {
       "output_type": "stream",
       "stream": "stderr",
       "text": [
        "/usr/local/lib/python2.7/dist-packages/pandas/io/parsers.py:1164: DtypeWarning: Columns (1,2,4,8,9,10,11,12,13,14,17,18,19,20,21,22) have mixed types. Specify dtype option on import or set low_memory=False.\n",
        "  data = self._reader.read(nrows)\n"
       ]
      }
     ],
     "prompt_number": 17
    },
    {
     "cell_type": "code",
     "collapsed": false,
     "input": [
      "df = master_df[:100000]"
     ],
     "language": "python",
     "metadata": {},
     "outputs": [],
     "prompt_number": 18
    },
    {
     "cell_type": "code",
     "collapsed": false,
     "input": [
      "AssignZipcodes(df, 'pickup')"
     ],
     "language": "python",
     "metadata": {},
     "outputs": [
      {
       "output_type": "stream",
       "stream": "stdout",
       "text": [
        "Bronx\n",
        "Brooklyn\n",
        "Manhattan\n",
        "Queens\n",
        "StatenIsland\n",
        "exception 0"
       ]
      },
      {
       "output_type": "stream",
       "stream": "stderr",
       "text": [
        "-c:11: SettingWithCopyWarning: \n",
        "A value is trying to be set on a copy of a slice from a DataFrame.\n",
        "Try using .loc[row_indexer,col_indexer] = value instead\n",
        "\n",
        "See the the caveats in the documentation: http://pandas.pydata.org/pandas-docs/stable/indexing.html#indexing-view-versus-copy\n",
        "-c:12: SettingWithCopyWarning: \n",
        "A value is trying to be set on a copy of a slice from a DataFrame.\n",
        "Try using .loc[row_indexer,col_indexer] = value instead\n",
        "\n",
        "See the the caveats in the documentation: http://pandas.pydata.org/pandas-docs/stable/indexing.html#indexing-view-versus-copy\n"
       ]
      },
      {
       "output_type": "stream",
       "stream": "stdout",
       "text": [
        "\n"
       ]
      }
     ],
     "prompt_number": 6
    },
    {
     "cell_type": "code",
     "collapsed": false,
     "input": [
      "zipd = GetZipCodesByBurough()"
     ],
     "language": "python",
     "metadata": {},
     "outputs": [
      {
       "output_type": "stream",
       "stream": "stdout",
       "text": [
        "Bronx\n",
        "Brooklyn\n",
        "Manhattan\n",
        "Queens\n",
        "StatenIsland\n"
       ]
      }
     ],
     "prompt_number": 4
    },
    {
     "cell_type": "code",
     "collapsed": false,
     "input": [
      "print len(zipd.items())\n",
      "# print zipd"
     ],
     "language": "python",
     "metadata": {},
     "outputs": [
      {
       "output_type": "stream",
       "stream": "stdout",
       "text": [
        "178\n"
       ]
      }
     ],
     "prompt_number": 5
    },
    {
     "cell_type": "code",
     "collapsed": false,
     "input": [
      "PickZipCode(df[\" pickup_latitude\"][0],df[\" pickup_longitude\"][0],zipd)"
     ],
     "language": "python",
     "metadata": {},
     "outputs": [
      {
       "ename": "KeyError",
       "evalue": "10151",
       "output_type": "pyerr",
       "traceback": [
        "\u001b[0;31m---------------------------------------------------------------------------\u001b[0m\n\u001b[0;31mKeyError\u001b[0m                                  Traceback (most recent call last)",
        "\u001b[0;32m<ipython-input-8-1fc7638944ac>\u001b[0m in \u001b[0;36m<module>\u001b[0;34m()\u001b[0m\n\u001b[0;32m----> 1\u001b[0;31m \u001b[0mPickZipCode\u001b[0m\u001b[0;34m(\u001b[0m\u001b[0mdf\u001b[0m\u001b[0;34m[\u001b[0m\u001b[0;34m\" pickup_latitude\"\u001b[0m\u001b[0;34m]\u001b[0m\u001b[0;34m[\u001b[0m\u001b[0;36m0\u001b[0m\u001b[0;34m]\u001b[0m\u001b[0;34m,\u001b[0m\u001b[0mdf\u001b[0m\u001b[0;34m[\u001b[0m\u001b[0;34m\" pickup_longitude\"\u001b[0m\u001b[0;34m]\u001b[0m\u001b[0;34m[\u001b[0m\u001b[0;36m0\u001b[0m\u001b[0;34m]\u001b[0m\u001b[0;34m,\u001b[0m\u001b[0mzipd\u001b[0m\u001b[0;34m)\u001b[0m\u001b[0;34m\u001b[0m\u001b[0m\n\u001b[0m",
        "\u001b[0;32m<ipython-input-2-e9a94b342654>\u001b[0m in \u001b[0;36mPickZipCode\u001b[0;34m(Lat, Long, zipDiction)\u001b[0m\n\u001b[1;32m     16\u001b[0m     \u001b[0mz\u001b[0m \u001b[0;34m=\u001b[0m \u001b[0mzipcodes_NY\u001b[0m\u001b[0;34m[\u001b[0m\u001b[0;34m(\u001b[0m\u001b[0;34m(\u001b[0m\u001b[0mzipcodes_NY\u001b[0m\u001b[0;34m.\u001b[0m\u001b[0mlongitude\u001b[0m\u001b[0;34m==\u001b[0m\u001b[0mminLong\u001b[0m\u001b[0;34m)\u001b[0m\u001b[0;34m&\u001b[0m\u001b[0;34m(\u001b[0m\u001b[0mzipcodes_NY\u001b[0m\u001b[0;34m.\u001b[0m\u001b[0mlatitude\u001b[0m\u001b[0;34m==\u001b[0m\u001b[0mminLat\u001b[0m\u001b[0;34m)\u001b[0m\u001b[0;34m)\u001b[0m\u001b[0;34m]\u001b[0m\u001b[0;34m[\u001b[0m\u001b[0;34m\"zip\"\u001b[0m\u001b[0;34m]\u001b[0m\u001b[0;34m.\u001b[0m\u001b[0mtolist\u001b[0m\u001b[0;34m(\u001b[0m\u001b[0;34m)\u001b[0m\u001b[0;34m[\u001b[0m\u001b[0;36m0\u001b[0m\u001b[0;34m]\u001b[0m\u001b[0;34m\u001b[0m\u001b[0m\n\u001b[1;32m     17\u001b[0m \u001b[0;31m#     print z\u001b[0m\u001b[0;34m\u001b[0m\u001b[0;34m\u001b[0m\u001b[0m\n\u001b[0;32m---> 18\u001b[0;31m     \u001b[0marea\u001b[0m \u001b[0;34m=\u001b[0m \u001b[0mzipDiction\u001b[0m\u001b[0;34m[\u001b[0m\u001b[0mz\u001b[0m\u001b[0;34m]\u001b[0m\u001b[0;34m\u001b[0m\u001b[0m\n\u001b[0m\u001b[1;32m     19\u001b[0m     \u001b[0;32mreturn\u001b[0m \u001b[0mz\u001b[0m\u001b[0;34m,\u001b[0m\u001b[0marea\u001b[0m\u001b[0;34m\u001b[0m\u001b[0m\n",
        "\u001b[0;31mKeyError\u001b[0m: 10151"
       ]
      }
     ],
     "prompt_number": 8
    },
    {
     "cell_type": "code",
     "collapsed": false,
     "input": [
      "def GetZipCodesByBurough():\n",
      "    zipcodesByB = pd.read_csv(\"../../../zipcodesByBuruough.csv\",header=None)\n",
      "    zipDiction={}\n",
      "    print zipcodesByB.count()[0]\n",
      "    for i in range(zipcodesByB.count()[0]):\n",
      "        print zipcodesByB[0][i]\n",
      "        print len(zipcodesByB[1][i].split(\",\"))\n",
      "        for row in zipcodesByB[1][i].split(\",\"):\n",
      "            zipDiction[int(row.strip())]=zipcodesByB[0][i]\n",
      "    return zipDiction"
     ],
     "language": "python",
     "metadata": {},
     "outputs": [],
     "prompt_number": 6
    },
    {
     "cell_type": "code",
     "collapsed": false,
     "input": [
      "x = GetZipCodesByBurough()"
     ],
     "language": "python",
     "metadata": {},
     "outputs": [
      {
       "output_type": "stream",
       "stream": "stdout",
       "text": [
        "5\n",
        "Bronx\n",
        "25\n",
        "Brooklyn\n",
        "37\n",
        "Manhattan\n",
        "43\n",
        "Queens\n",
        "61\n",
        "StatenIsland\n",
        "12\n"
       ]
      }
     ],
     "prompt_number": 7
    },
    {
     "cell_type": "markdown",
     "metadata": {},
     "source": [
      "10453, 10457, 10460, 10458, 10467, 10468, 10451, 10452, 10456, 10454, 10455, 10459, 10474, 10463, 10471,10466, 10469, 10470, 10475, 10461, 10462,10464, 10465, 10472, 10473"
     ]
    },
    {
     "cell_type": "markdown",
     "metadata": {},
     "source": [
      "11212, 11213, 11216, 11233, 11238,11209, 11214, 11228,11204, 11218, 11219, 11230,11234, 11236, 11239,11223, 11224, 11229, 11235,11201, 11205, 11215, 11217, 11231,11203, 11210, 11225, 11226,11207, 11208,11211, 11222,11220, 11232,11206, 11221, 11237"
     ]
    },
    {
     "cell_type": "code",
     "collapsed": false,
     "input": [
      "nycdf =  pd.read_csv(\"../../../nycitydata.csv\")"
     ],
     "language": "python",
     "metadata": {},
     "outputs": [],
     "prompt_number": 8
    },
    {
     "cell_type": "code",
     "collapsed": false,
     "input": [
      "nycdf.zipcodes.count()"
     ],
     "language": "python",
     "metadata": {},
     "outputs": [
      {
       "metadata": {},
       "output_type": "pyout",
       "prompt_number": 9,
       "text": [
        "198"
       ]
      }
     ],
     "prompt_number": 9
    },
    {
     "cell_type": "code",
     "collapsed": false,
     "input": [
      "temp = pd.DataFrame()\n",
      "temp[\"nyzip\"] = nycdf.zipcodes\n",
      "temp[\"b\"] = k"
     ],
     "language": "python",
     "metadata": {},
     "outputs": [
      {
       "ename": "NameError",
       "evalue": "name 'k' is not defined",
       "output_type": "pyerr",
       "traceback": [
        "\u001b[0;31m---------------------------------------------------------------------------\u001b[0m\n\u001b[0;31mNameError\u001b[0m                                 Traceback (most recent call last)",
        "\u001b[0;32m<ipython-input-7-6c6dc57842ad>\u001b[0m in \u001b[0;36m<module>\u001b[0;34m()\u001b[0m\n\u001b[1;32m      1\u001b[0m \u001b[0mtemp\u001b[0m \u001b[0;34m=\u001b[0m \u001b[0mpd\u001b[0m\u001b[0;34m.\u001b[0m\u001b[0mDataFrame\u001b[0m\u001b[0;34m(\u001b[0m\u001b[0;34m)\u001b[0m\u001b[0;34m\u001b[0m\u001b[0m\n\u001b[1;32m      2\u001b[0m \u001b[0mtemp\u001b[0m\u001b[0;34m[\u001b[0m\u001b[0;34m\"nyzip\"\u001b[0m\u001b[0;34m]\u001b[0m \u001b[0;34m=\u001b[0m \u001b[0mnycdf\u001b[0m\u001b[0;34m.\u001b[0m\u001b[0mzipcodes\u001b[0m\u001b[0;34m\u001b[0m\u001b[0m\n\u001b[0;32m----> 3\u001b[0;31m \u001b[0mtemp\u001b[0m\u001b[0;34m[\u001b[0m\u001b[0;34m\"b\"\u001b[0m\u001b[0;34m]\u001b[0m \u001b[0;34m=\u001b[0m \u001b[0mk\u001b[0m\u001b[0;34m\u001b[0m\u001b[0m\n\u001b[0m",
        "\u001b[0;31mNameError\u001b[0m: name 'k' is not defined"
       ]
      }
     ],
     "prompt_number": 7
    },
    {
     "cell_type": "code",
     "collapsed": false,
     "input": [
      "k = zipd.keys()\n",
      "type(k)"
     ],
     "language": "python",
     "metadata": {},
     "outputs": [
      {
       "metadata": {},
       "output_type": "pyout",
       "prompt_number": 10,
       "text": [
        "list"
       ]
      }
     ],
     "prompt_number": 10
    },
    {
     "cell_type": "code",
     "collapsed": false,
     "input": [
      "k.sort()"
     ],
     "language": "python",
     "metadata": {},
     "outputs": [],
     "prompt_number": 45
    },
    {
     "cell_type": "code",
     "collapsed": false,
     "input": [
      "for i in range(20):\n",
      "    k.append(0)"
     ],
     "language": "python",
     "metadata": {},
     "outputs": [],
     "prompt_number": 48
    },
    {
     "cell_type": "code",
     "collapsed": false,
     "input": [
      "len(k)"
     ],
     "language": "python",
     "metadata": {},
     "outputs": [
      {
       "metadata": {},
       "output_type": "pyout",
       "prompt_number": 49,
       "text": [
        "198"
       ]
      }
     ],
     "prompt_number": 49
    },
    {
     "cell_type": "code",
     "collapsed": false,
     "input": [
      "x = [c for c in nycdf.zipcodes.tolist() if c not in k ]"
     ],
     "language": "python",
     "metadata": {},
     "outputs": [],
     "prompt_number": 11
    },
    {
     "cell_type": "code",
     "collapsed": false,
     "input": [
      "len(x)"
     ],
     "language": "python",
     "metadata": {},
     "outputs": [
      {
       "metadata": {},
       "output_type": "pyout",
       "prompt_number": 13,
       "text": [
        "24"
       ]
      }
     ],
     "prompt_number": 13
    },
    {
     "cell_type": "markdown",
     "metadata": {},
     "source": [
      "[10069 - \n",
      " 10103,\n",
      " 10111,\n",
      " 10112,\n",
      " 10115,\n",
      " 10119,\n",
      " 10152,\n",
      " 10153,\n",
      " 10154,\n",
      " 10162,\n",
      " 10165,\n",
      " 10167,\n",
      " 10169,\n",
      " 10170,\n",
      " 10171,\n",
      " 10172,\n",
      " 10173,\n",
      " 10177,\n",
      " 10271,\n",
      " 10278,\n",
      " 10279,\n",
      " 10282,\n",
      " 11371,\n",
      " 11430]"
     ]
    },
    {
     "cell_type": "code",
     "collapsed": false,
     "input": [
      "y = [c for c in k if c not in nycdf.zipcodes.tolist() ]"
     ],
     "language": "python",
     "metadata": {},
     "outputs": [],
     "prompt_number": 14
    },
    {
     "cell_type": "code",
     "collapsed": false,
     "input": [
      "len(y)"
     ],
     "language": "python",
     "metadata": {},
     "outputs": [
      {
       "metadata": {},
       "output_type": "pyout",
       "prompt_number": 15,
       "text": [
        "4"
       ]
      }
     ],
     "prompt_number": 15
    },
    {
     "cell_type": "code",
     "collapsed": false,
     "input": [
      "y"
     ],
     "language": "python",
     "metadata": {},
     "outputs": [
      {
       "metadata": {},
       "output_type": "pyout",
       "prompt_number": 16,
       "text": [
        "[11359, 10065, 10075, 11695]"
       ]
      }
     ],
     "prompt_number": 16
    },
    {
     "cell_type": "code",
     "collapsed": false,
     "input": [
      "df"
     ],
     "language": "python",
     "metadata": {},
     "outputs": [
      {
       "html": [
        "<div style=\"max-height:1000px;max-width:1500px;overflow:auto;\">\n",
        "<table border=\"1\" class=\"dataframe\">\n",
        "  <thead>\n",
        "    <tr style=\"text-align: right;\">\n",
        "      <th></th>\n",
        "      <th>Unnamed: 0</th>\n",
        "      <th>medallion</th>\n",
        "      <th>hack_license</th>\n",
        "      <th>vendor_id_x</th>\n",
        "      <th>rate_code</th>\n",
        "      <th>store_and_fwd_flag</th>\n",
        "      <th>pickup_datetime</th>\n",
        "      <th>dropoff_datetime</th>\n",
        "      <th>passenger_count</th>\n",
        "      <th>trip_time_in_secs</th>\n",
        "      <th>...</th>\n",
        "      <th>dropoff_longitude</th>\n",
        "      <th>dropoff_latitude</th>\n",
        "      <th>vendor_id_y</th>\n",
        "      <th>payment_type</th>\n",
        "      <th>fare_amount</th>\n",
        "      <th>surcharge</th>\n",
        "      <th>mta_tax</th>\n",
        "      <th>tip_amount</th>\n",
        "      <th>tolls_amount</th>\n",
        "      <th>total_amount</th>\n",
        "    </tr>\n",
        "  </thead>\n",
        "  <tbody>\n",
        "    <tr>\n",
        "      <th>0</th>\n",
        "      <td>7440547</td>\n",
        "      <td>2013011658</td>\n",
        "      <td>2013018848</td>\n",
        "      <td>VTS</td>\n",
        "      <td>1</td>\n",
        "      <td>NaN</td>\n",
        "      <td>2013-11-15 23:47:00</td>\n",
        "      <td>2013-11-16 00:17:00</td>\n",
        "      <td>1</td>\n",
        "      <td>1800</td>\n",
        "      <td>...</td>\n",
        "      <td>-73.98399</td>\n",
        "      <td>40.67196</td>\n",
        "      <td>VTS</td>\n",
        "      <td>CRD</td>\n",
        "      <td>25.5</td>\n",
        "      <td>0.5</td>\n",
        "      <td>0.5</td>\n",
        "      <td>5.2</td>\n",
        "      <td>0</td>\n",
        "      <td>31.7</td>\n",
        "    </tr>\n",
        "    <tr>\n",
        "      <th>1</th>\n",
        "      <td>2380903</td>\n",
        "      <td>2013012089</td>\n",
        "      <td>2013019690</td>\n",
        "      <td>VTS</td>\n",
        "      <td>1</td>\n",
        "      <td>NaN</td>\n",
        "      <td>2013-11-05 19:29:00</td>\n",
        "      <td>2013-11-05 19:52:00</td>\n",
        "      <td>2</td>\n",
        "      <td>1380</td>\n",
        "      <td>...</td>\n",
        "      <td>-73.93472</td>\n",
        "      <td>40.79569</td>\n",
        "      <td>VTS</td>\n",
        "      <td>CRD</td>\n",
        "      <td>22.5</td>\n",
        "      <td>0</td>\n",
        "      <td>0.5</td>\n",
        "      <td>3</td>\n",
        "      <td>0</td>\n",
        "      <td>26</td>\n",
        "    </tr>\n",
        "    <tr>\n",
        "      <th>2</th>\n",
        "      <td>2631516</td>\n",
        "      <td>2013000527</td>\n",
        "      <td>2013000525</td>\n",
        "      <td>CMT</td>\n",
        "      <td>1</td>\n",
        "      <td>N</td>\n",
        "      <td>2013-08-08 20:12:40</td>\n",
        "      <td>2013-08-08 20:22:49</td>\n",
        "      <td>2</td>\n",
        "      <td>609</td>\n",
        "      <td>...</td>\n",
        "      <td>-73.98547</td>\n",
        "      <td>40.72207</td>\n",
        "      <td>CMT</td>\n",
        "      <td>CRD</td>\n",
        "      <td>15</td>\n",
        "      <td>0.5</td>\n",
        "      <td>0.5</td>\n",
        "      <td>1.8</td>\n",
        "      <td>0</td>\n",
        "      <td>17.8</td>\n",
        "    </tr>\n",
        "    <tr>\n",
        "      <th>3</th>\n",
        "      <td>1747706</td>\n",
        "      <td>2013004395</td>\n",
        "      <td>2013021600</td>\n",
        "      <td>CMT</td>\n",
        "      <td>1</td>\n",
        "      <td>N</td>\n",
        "      <td>2013-05-04 11:04:58</td>\n",
        "      <td>2013-05-04 11:21:28</td>\n",
        "      <td>1</td>\n",
        "      <td>990</td>\n",
        "      <td>...</td>\n",
        "      <td>-73.9879</td>\n",
        "      <td>40.73233</td>\n",
        "      <td>CMT</td>\n",
        "      <td>CSH</td>\n",
        "      <td>14</td>\n",
        "      <td>0</td>\n",
        "      <td>0.5</td>\n",
        "      <td>0</td>\n",
        "      <td>0</td>\n",
        "      <td>14.5</td>\n",
        "    </tr>\n",
        "    <tr>\n",
        "      <th>4</th>\n",
        "      <td>1619754</td>\n",
        "      <td>2013001666</td>\n",
        "      <td>2013001663</td>\n",
        "      <td>CMT</td>\n",
        "      <td>1</td>\n",
        "      <td>N</td>\n",
        "      <td>2013-07-04 23:40:10</td>\n",
        "      <td>2013-07-04 23:49:21</td>\n",
        "      <td>3</td>\n",
        "      <td>551</td>\n",
        "      <td>...</td>\n",
        "      <td>-74.00727</td>\n",
        "      <td>40.7412</td>\n",
        "      <td>CMT</td>\n",
        "      <td>CRD</td>\n",
        "      <td>10.5</td>\n",
        "      <td>0.5</td>\n",
        "      <td>0.5</td>\n",
        "      <td>0.1</td>\n",
        "      <td>0</td>\n",
        "      <td>11.6</td>\n",
        "    </tr>\n",
        "  </tbody>\n",
        "</table>\n",
        "<p>5 rows \u00d7 23 columns</p>\n",
        "</div>"
       ],
       "metadata": {},
       "output_type": "pyout",
       "prompt_number": 19,
       "text": [
        "   Unnamed: 0   medallion  hack_license  vendor_id_x  rate_code  \\\n",
        "0     7440547  2013011658    2013018848          VTS          1   \n",
        "1     2380903  2013012089    2013019690          VTS          1   \n",
        "2     2631516  2013000527    2013000525          CMT          1   \n",
        "3     1747706  2013004395    2013021600          CMT          1   \n",
        "4     1619754  2013001666    2013001663          CMT          1   \n",
        "\n",
        "   store_and_fwd_flag      pickup_datetime     dropoff_datetime  \\\n",
        "0                 NaN  2013-11-15 23:47:00  2013-11-16 00:17:00   \n",
        "1                 NaN  2013-11-05 19:29:00  2013-11-05 19:52:00   \n",
        "2                   N  2013-08-08 20:12:40  2013-08-08 20:22:49   \n",
        "3                   N  2013-05-04 11:04:58  2013-05-04 11:21:28   \n",
        "4                   N  2013-07-04 23:40:10  2013-07-04 23:49:21   \n",
        "\n",
        "   passenger_count  trip_time_in_secs      ...       dropoff_longitude  \\\n",
        "0                1               1800      ...               -73.98399   \n",
        "1                2               1380      ...               -73.93472   \n",
        "2                2                609      ...               -73.98547   \n",
        "3                1                990      ...                -73.9879   \n",
        "4                3                551      ...               -74.00727   \n",
        "\n",
        "   dropoff_latitude  vendor_id_y  payment_type  fare_amount  surcharge  \\\n",
        "0          40.67196          VTS           CRD         25.5        0.5   \n",
        "1          40.79569          VTS           CRD         22.5          0   \n",
        "2          40.72207          CMT           CRD           15        0.5   \n",
        "3          40.73233          CMT           CSH           14          0   \n",
        "4           40.7412          CMT           CRD         10.5        0.5   \n",
        "\n",
        "   mta_tax  tip_amount  tolls_amount  total_amount  \n",
        "0      0.5         5.2             0          31.7  \n",
        "1      0.5           3             0            26  \n",
        "2      0.5         1.8             0          17.8  \n",
        "3      0.5           0             0          14.5  \n",
        "4      0.5         0.1             0          11.6  \n",
        "\n",
        "[5 rows x 23 columns]"
       ]
      }
     ],
     "prompt_number": 19
    },
    {
     "cell_type": "code",
     "collapsed": false,
     "input": [
      "zipcodes_NY = pd.read_csv(\"../../../zipcode_NYC.csv\")"
     ],
     "language": "python",
     "metadata": {},
     "outputs": [],
     "prompt_number": 20
    },
    {
     "cell_type": "code",
     "collapsed": false,
     "input": [
      "len(zipcodes_NY[zipcodes_NY.ci].zip)"
     ],
     "language": "python",
     "metadata": {},
     "outputs": [
      {
       "metadata": {},
       "output_type": "pyout",
       "prompt_number": 22,
       "text": [
        "43191"
       ]
      }
     ],
     "prompt_number": 22
    },
    {
     "cell_type": "code",
     "collapsed": false,
     "input": [
      "m = zipcodes_NY[zipcodes_NY.city==\"New York\"].zip.tolist()"
     ],
     "language": "python",
     "metadata": {},
     "outputs": [],
     "prompt_number": 30
    },
    {
     "cell_type": "code",
     "collapsed": false,
     "input": [
      "x = [c for c in nycdf.zipcodes.tolist() if c not in k ]"
     ],
     "language": "python",
     "metadata": {},
     "outputs": [],
     "prompt_number": 31
    },
    {
     "cell_type": "code",
     "collapsed": false,
     "input": [
      "y = [c for c in k if c not in nycdf.zipcodes.tolist() ]"
     ],
     "language": "python",
     "metadata": {},
     "outputs": [],
     "prompt_number": 32
    },
    {
     "cell_type": "code",
     "collapsed": false,
     "input": [
      "z = [c for c in nycdf.zipcodes.tolist() if c not in m ]"
     ],
     "language": "python",
     "metadata": {},
     "outputs": [],
     "prompt_number": 33
    },
    {
     "cell_type": "code",
     "collapsed": false,
     "input": [
      "len(z)"
     ],
     "language": "python",
     "metadata": {},
     "outputs": [
      {
       "metadata": {},
       "output_type": "pyout",
       "prompt_number": 35,
       "text": [
        "135"
       ]
      }
     ],
     "prompt_number": 35
    },
    {
     "cell_type": "code",
     "collapsed": false,
     "input": [
      "yds = [c for c in m if c not in nycdf.zipcodes.tolist() ]"
     ],
     "language": "python",
     "metadata": {},
     "outputs": [],
     "prompt_number": 36
    },
    {
     "cell_type": "code",
     "collapsed": false,
     "input": [
      "len(yds)"
     ],
     "language": "python",
     "metadata": {},
     "outputs": [
      {
       "metadata": {},
       "output_type": "pyout",
       "prompt_number": 38,
       "text": [
        "104"
       ]
      }
     ],
     "prompt_number": 38
    },
    {
     "cell_type": "code",
     "collapsed": false,
     "input": [
      "m"
     ],
     "language": "python",
     "metadata": {},
     "outputs": [],
     "prompt_number": "*"
    },
    {
     "cell_type": "code",
     "collapsed": false,
     "input": [
      "zipcodes_NY[zipcodes_NY.zip==10069]"
     ],
     "language": "python",
     "metadata": {},
     "outputs": [],
     "prompt_number": 76
    },
    {
     "cell_type": "code",
     "collapsed": false,
     "input": [
      "zipcodes_NY.head()"
     ],
     "language": "python",
     "metadata": {},
     "outputs": [],
     "prompt_number": 77
    }
   ],
   "metadata": {}
  }
 ]
}